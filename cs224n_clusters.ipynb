{
  "nbformat": 4,
  "nbformat_minor": 0,
  "metadata": {
    "colab": {
      "name": "cs224n_clusters.ipynb",
      "provenance": [],
      "machine_shape": "hm",
      "collapsed_sections": [],
      "authorship_tag": "ABX9TyP5f1HSd3QZ9EfLNp9rUuxW",
      "include_colab_link": true
    },
    "kernelspec": {
      "name": "python3",
      "display_name": "Python 3"
    },
    "language_info": {
      "name": "python"
    },
    "accelerator": "GPU",
    "widgets": {
      "application/vnd.jupyter.widget-state+json": {
        "8fb6dbc59061427b8f394e1bf28ff4f1": {
          "model_module": "@jupyter-widgets/controls",
          "model_name": "HBoxModel",
          "model_module_version": "1.5.0",
          "state": {
            "_dom_classes": [],
            "_model_module": "@jupyter-widgets/controls",
            "_model_module_version": "1.5.0",
            "_model_name": "HBoxModel",
            "_view_count": null,
            "_view_module": "@jupyter-widgets/controls",
            "_view_module_version": "1.5.0",
            "_view_name": "HBoxView",
            "box_style": "",
            "children": [
              "IPY_MODEL_730f3aa2251b4c7f9fbdaca96d43a8c0",
              "IPY_MODEL_9de815af01a04ebbb8c9e6ff0c355625",
              "IPY_MODEL_eec52a78cce441819a5fe6b0dc41b0c5"
            ],
            "layout": "IPY_MODEL_ce57c0a77f6f4750baae8575628b06a4"
          }
        },
        "730f3aa2251b4c7f9fbdaca96d43a8c0": {
          "model_module": "@jupyter-widgets/controls",
          "model_name": "HTMLModel",
          "model_module_version": "1.5.0",
          "state": {
            "_dom_classes": [],
            "_model_module": "@jupyter-widgets/controls",
            "_model_module_version": "1.5.0",
            "_model_name": "HTMLModel",
            "_view_count": null,
            "_view_module": "@jupyter-widgets/controls",
            "_view_module_version": "1.5.0",
            "_view_name": "HTMLView",
            "description": "",
            "description_tooltip": null,
            "layout": "IPY_MODEL_705341710b354f59a273fddba75827f5",
            "placeholder": "​",
            "style": "IPY_MODEL_da84b70975fe4935a65a67a3c5fb246c",
            "value": "100%"
          }
        },
        "9de815af01a04ebbb8c9e6ff0c355625": {
          "model_module": "@jupyter-widgets/controls",
          "model_name": "FloatProgressModel",
          "model_module_version": "1.5.0",
          "state": {
            "_dom_classes": [],
            "_model_module": "@jupyter-widgets/controls",
            "_model_module_version": "1.5.0",
            "_model_name": "FloatProgressModel",
            "_view_count": null,
            "_view_module": "@jupyter-widgets/controls",
            "_view_module_version": "1.5.0",
            "_view_name": "ProgressView",
            "bar_style": "success",
            "description": "",
            "description_tooltip": null,
            "layout": "IPY_MODEL_4dd31e835f8840e0925a59920ea9e52f",
            "max": 8841823,
            "min": 0,
            "orientation": "horizontal",
            "style": "IPY_MODEL_af54824865b24e4ab6c0162fded28f39",
            "value": 8841823
          }
        },
        "eec52a78cce441819a5fe6b0dc41b0c5": {
          "model_module": "@jupyter-widgets/controls",
          "model_name": "HTMLModel",
          "model_module_version": "1.5.0",
          "state": {
            "_dom_classes": [],
            "_model_module": "@jupyter-widgets/controls",
            "_model_module_version": "1.5.0",
            "_model_name": "HTMLModel",
            "_view_count": null,
            "_view_module": "@jupyter-widgets/controls",
            "_view_module_version": "1.5.0",
            "_view_name": "HTMLView",
            "description": "",
            "description_tooltip": null,
            "layout": "IPY_MODEL_f1b7200ad67648f48b8f8576adaabc13",
            "placeholder": "​",
            "style": "IPY_MODEL_29e6cd1c7a8e45848533bdbe80a4f2d3",
            "value": " 8841823/8841823 [00:55&lt;00:00, 165622.36it/s]"
          }
        },
        "ce57c0a77f6f4750baae8575628b06a4": {
          "model_module": "@jupyter-widgets/base",
          "model_name": "LayoutModel",
          "model_module_version": "1.2.0",
          "state": {
            "_model_module": "@jupyter-widgets/base",
            "_model_module_version": "1.2.0",
            "_model_name": "LayoutModel",
            "_view_count": null,
            "_view_module": "@jupyter-widgets/base",
            "_view_module_version": "1.2.0",
            "_view_name": "LayoutView",
            "align_content": null,
            "align_items": null,
            "align_self": null,
            "border": null,
            "bottom": null,
            "display": null,
            "flex": null,
            "flex_flow": null,
            "grid_area": null,
            "grid_auto_columns": null,
            "grid_auto_flow": null,
            "grid_auto_rows": null,
            "grid_column": null,
            "grid_gap": null,
            "grid_row": null,
            "grid_template_areas": null,
            "grid_template_columns": null,
            "grid_template_rows": null,
            "height": null,
            "justify_content": null,
            "justify_items": null,
            "left": null,
            "margin": null,
            "max_height": null,
            "max_width": null,
            "min_height": null,
            "min_width": null,
            "object_fit": null,
            "object_position": null,
            "order": null,
            "overflow": null,
            "overflow_x": null,
            "overflow_y": null,
            "padding": null,
            "right": null,
            "top": null,
            "visibility": null,
            "width": null
          }
        },
        "705341710b354f59a273fddba75827f5": {
          "model_module": "@jupyter-widgets/base",
          "model_name": "LayoutModel",
          "model_module_version": "1.2.0",
          "state": {
            "_model_module": "@jupyter-widgets/base",
            "_model_module_version": "1.2.0",
            "_model_name": "LayoutModel",
            "_view_count": null,
            "_view_module": "@jupyter-widgets/base",
            "_view_module_version": "1.2.0",
            "_view_name": "LayoutView",
            "align_content": null,
            "align_items": null,
            "align_self": null,
            "border": null,
            "bottom": null,
            "display": null,
            "flex": null,
            "flex_flow": null,
            "grid_area": null,
            "grid_auto_columns": null,
            "grid_auto_flow": null,
            "grid_auto_rows": null,
            "grid_column": null,
            "grid_gap": null,
            "grid_row": null,
            "grid_template_areas": null,
            "grid_template_columns": null,
            "grid_template_rows": null,
            "height": null,
            "justify_content": null,
            "justify_items": null,
            "left": null,
            "margin": null,
            "max_height": null,
            "max_width": null,
            "min_height": null,
            "min_width": null,
            "object_fit": null,
            "object_position": null,
            "order": null,
            "overflow": null,
            "overflow_x": null,
            "overflow_y": null,
            "padding": null,
            "right": null,
            "top": null,
            "visibility": null,
            "width": null
          }
        },
        "da84b70975fe4935a65a67a3c5fb246c": {
          "model_module": "@jupyter-widgets/controls",
          "model_name": "DescriptionStyleModel",
          "model_module_version": "1.5.0",
          "state": {
            "_model_module": "@jupyter-widgets/controls",
            "_model_module_version": "1.5.0",
            "_model_name": "DescriptionStyleModel",
            "_view_count": null,
            "_view_module": "@jupyter-widgets/base",
            "_view_module_version": "1.2.0",
            "_view_name": "StyleView",
            "description_width": ""
          }
        },
        "4dd31e835f8840e0925a59920ea9e52f": {
          "model_module": "@jupyter-widgets/base",
          "model_name": "LayoutModel",
          "model_module_version": "1.2.0",
          "state": {
            "_model_module": "@jupyter-widgets/base",
            "_model_module_version": "1.2.0",
            "_model_name": "LayoutModel",
            "_view_count": null,
            "_view_module": "@jupyter-widgets/base",
            "_view_module_version": "1.2.0",
            "_view_name": "LayoutView",
            "align_content": null,
            "align_items": null,
            "align_self": null,
            "border": null,
            "bottom": null,
            "display": null,
            "flex": null,
            "flex_flow": null,
            "grid_area": null,
            "grid_auto_columns": null,
            "grid_auto_flow": null,
            "grid_auto_rows": null,
            "grid_column": null,
            "grid_gap": null,
            "grid_row": null,
            "grid_template_areas": null,
            "grid_template_columns": null,
            "grid_template_rows": null,
            "height": null,
            "justify_content": null,
            "justify_items": null,
            "left": null,
            "margin": null,
            "max_height": null,
            "max_width": null,
            "min_height": null,
            "min_width": null,
            "object_fit": null,
            "object_position": null,
            "order": null,
            "overflow": null,
            "overflow_x": null,
            "overflow_y": null,
            "padding": null,
            "right": null,
            "top": null,
            "visibility": null,
            "width": null
          }
        },
        "af54824865b24e4ab6c0162fded28f39": {
          "model_module": "@jupyter-widgets/controls",
          "model_name": "ProgressStyleModel",
          "model_module_version": "1.5.0",
          "state": {
            "_model_module": "@jupyter-widgets/controls",
            "_model_module_version": "1.5.0",
            "_model_name": "ProgressStyleModel",
            "_view_count": null,
            "_view_module": "@jupyter-widgets/base",
            "_view_module_version": "1.2.0",
            "_view_name": "StyleView",
            "bar_color": null,
            "description_width": ""
          }
        },
        "f1b7200ad67648f48b8f8576adaabc13": {
          "model_module": "@jupyter-widgets/base",
          "model_name": "LayoutModel",
          "model_module_version": "1.2.0",
          "state": {
            "_model_module": "@jupyter-widgets/base",
            "_model_module_version": "1.2.0",
            "_model_name": "LayoutModel",
            "_view_count": null,
            "_view_module": "@jupyter-widgets/base",
            "_view_module_version": "1.2.0",
            "_view_name": "LayoutView",
            "align_content": null,
            "align_items": null,
            "align_self": null,
            "border": null,
            "bottom": null,
            "display": null,
            "flex": null,
            "flex_flow": null,
            "grid_area": null,
            "grid_auto_columns": null,
            "grid_auto_flow": null,
            "grid_auto_rows": null,
            "grid_column": null,
            "grid_gap": null,
            "grid_row": null,
            "grid_template_areas": null,
            "grid_template_columns": null,
            "grid_template_rows": null,
            "height": null,
            "justify_content": null,
            "justify_items": null,
            "left": null,
            "margin": null,
            "max_height": null,
            "max_width": null,
            "min_height": null,
            "min_width": null,
            "object_fit": null,
            "object_position": null,
            "order": null,
            "overflow": null,
            "overflow_x": null,
            "overflow_y": null,
            "padding": null,
            "right": null,
            "top": null,
            "visibility": null,
            "width": null
          }
        },
        "29e6cd1c7a8e45848533bdbe80a4f2d3": {
          "model_module": "@jupyter-widgets/controls",
          "model_name": "DescriptionStyleModel",
          "model_module_version": "1.5.0",
          "state": {
            "_model_module": "@jupyter-widgets/controls",
            "_model_module_version": "1.5.0",
            "_model_name": "DescriptionStyleModel",
            "_view_count": null,
            "_view_module": "@jupyter-widgets/base",
            "_view_module_version": "1.2.0",
            "_view_name": "StyleView",
            "description_width": ""
          }
        },
        "3f0e696429a04d44a82f83ad1aaa3f95": {
          "model_module": "@jupyter-widgets/controls",
          "model_name": "HBoxModel",
          "model_module_version": "1.5.0",
          "state": {
            "_dom_classes": [],
            "_model_module": "@jupyter-widgets/controls",
            "_model_module_version": "1.5.0",
            "_model_name": "HBoxModel",
            "_view_count": null,
            "_view_module": "@jupyter-widgets/controls",
            "_view_module_version": "1.5.0",
            "_view_name": "HBoxView",
            "box_style": "",
            "children": [
              "IPY_MODEL_de03ea3fb4d14067a00814f503c210e5",
              "IPY_MODEL_b6d5ff4b7d8947d98e7f84c6d5974dca",
              "IPY_MODEL_86231f46c3974e0b977049ad6b547da1"
            ],
            "layout": "IPY_MODEL_00c96b3349894044b6e14603cbc279de"
          }
        },
        "de03ea3fb4d14067a00814f503c210e5": {
          "model_module": "@jupyter-widgets/controls",
          "model_name": "HTMLModel",
          "model_module_version": "1.5.0",
          "state": {
            "_dom_classes": [],
            "_model_module": "@jupyter-widgets/controls",
            "_model_module_version": "1.5.0",
            "_model_name": "HTMLModel",
            "_view_count": null,
            "_view_module": "@jupyter-widgets/controls",
            "_view_module_version": "1.5.0",
            "_view_name": "HTMLView",
            "description": "",
            "description_tooltip": null,
            "layout": "IPY_MODEL_977fe7bb42ec4fb0aa4d28b1adc9f2e8",
            "placeholder": "​",
            "style": "IPY_MODEL_708a2fa0346c4ba58f851de99441bd98",
            "value": "100%"
          }
        },
        "b6d5ff4b7d8947d98e7f84c6d5974dca": {
          "model_module": "@jupyter-widgets/controls",
          "model_name": "FloatProgressModel",
          "model_module_version": "1.5.0",
          "state": {
            "_dom_classes": [],
            "_model_module": "@jupyter-widgets/controls",
            "_model_module_version": "1.5.0",
            "_model_name": "FloatProgressModel",
            "_view_count": null,
            "_view_module": "@jupyter-widgets/controls",
            "_view_module_version": "1.5.0",
            "_view_name": "ProgressView",
            "bar_style": "success",
            "description": "",
            "description_tooltip": null,
            "layout": "IPY_MODEL_39b2f5c7acac4f059556f15b41756100",
            "max": 8841823,
            "min": 0,
            "orientation": "horizontal",
            "style": "IPY_MODEL_b225a00f967a4f59bee5e4d154f75713",
            "value": 8841823
          }
        },
        "86231f46c3974e0b977049ad6b547da1": {
          "model_module": "@jupyter-widgets/controls",
          "model_name": "HTMLModel",
          "model_module_version": "1.5.0",
          "state": {
            "_dom_classes": [],
            "_model_module": "@jupyter-widgets/controls",
            "_model_module_version": "1.5.0",
            "_model_name": "HTMLModel",
            "_view_count": null,
            "_view_module": "@jupyter-widgets/controls",
            "_view_module_version": "1.5.0",
            "_view_name": "HTMLView",
            "description": "",
            "description_tooltip": null,
            "layout": "IPY_MODEL_d0a44929f9d64e33adbaaedc165acb8f",
            "placeholder": "​",
            "style": "IPY_MODEL_2311ab83d52e4a1a925ca18c5abe58cd",
            "value": " 8841823/8841823 [00:53&lt;00:00, 168529.10it/s]"
          }
        },
        "00c96b3349894044b6e14603cbc279de": {
          "model_module": "@jupyter-widgets/base",
          "model_name": "LayoutModel",
          "model_module_version": "1.2.0",
          "state": {
            "_model_module": "@jupyter-widgets/base",
            "_model_module_version": "1.2.0",
            "_model_name": "LayoutModel",
            "_view_count": null,
            "_view_module": "@jupyter-widgets/base",
            "_view_module_version": "1.2.0",
            "_view_name": "LayoutView",
            "align_content": null,
            "align_items": null,
            "align_self": null,
            "border": null,
            "bottom": null,
            "display": null,
            "flex": null,
            "flex_flow": null,
            "grid_area": null,
            "grid_auto_columns": null,
            "grid_auto_flow": null,
            "grid_auto_rows": null,
            "grid_column": null,
            "grid_gap": null,
            "grid_row": null,
            "grid_template_areas": null,
            "grid_template_columns": null,
            "grid_template_rows": null,
            "height": null,
            "justify_content": null,
            "justify_items": null,
            "left": null,
            "margin": null,
            "max_height": null,
            "max_width": null,
            "min_height": null,
            "min_width": null,
            "object_fit": null,
            "object_position": null,
            "order": null,
            "overflow": null,
            "overflow_x": null,
            "overflow_y": null,
            "padding": null,
            "right": null,
            "top": null,
            "visibility": null,
            "width": null
          }
        },
        "977fe7bb42ec4fb0aa4d28b1adc9f2e8": {
          "model_module": "@jupyter-widgets/base",
          "model_name": "LayoutModel",
          "model_module_version": "1.2.0",
          "state": {
            "_model_module": "@jupyter-widgets/base",
            "_model_module_version": "1.2.0",
            "_model_name": "LayoutModel",
            "_view_count": null,
            "_view_module": "@jupyter-widgets/base",
            "_view_module_version": "1.2.0",
            "_view_name": "LayoutView",
            "align_content": null,
            "align_items": null,
            "align_self": null,
            "border": null,
            "bottom": null,
            "display": null,
            "flex": null,
            "flex_flow": null,
            "grid_area": null,
            "grid_auto_columns": null,
            "grid_auto_flow": null,
            "grid_auto_rows": null,
            "grid_column": null,
            "grid_gap": null,
            "grid_row": null,
            "grid_template_areas": null,
            "grid_template_columns": null,
            "grid_template_rows": null,
            "height": null,
            "justify_content": null,
            "justify_items": null,
            "left": null,
            "margin": null,
            "max_height": null,
            "max_width": null,
            "min_height": null,
            "min_width": null,
            "object_fit": null,
            "object_position": null,
            "order": null,
            "overflow": null,
            "overflow_x": null,
            "overflow_y": null,
            "padding": null,
            "right": null,
            "top": null,
            "visibility": null,
            "width": null
          }
        },
        "708a2fa0346c4ba58f851de99441bd98": {
          "model_module": "@jupyter-widgets/controls",
          "model_name": "DescriptionStyleModel",
          "model_module_version": "1.5.0",
          "state": {
            "_model_module": "@jupyter-widgets/controls",
            "_model_module_version": "1.5.0",
            "_model_name": "DescriptionStyleModel",
            "_view_count": null,
            "_view_module": "@jupyter-widgets/base",
            "_view_module_version": "1.2.0",
            "_view_name": "StyleView",
            "description_width": ""
          }
        },
        "39b2f5c7acac4f059556f15b41756100": {
          "model_module": "@jupyter-widgets/base",
          "model_name": "LayoutModel",
          "model_module_version": "1.2.0",
          "state": {
            "_model_module": "@jupyter-widgets/base",
            "_model_module_version": "1.2.0",
            "_model_name": "LayoutModel",
            "_view_count": null,
            "_view_module": "@jupyter-widgets/base",
            "_view_module_version": "1.2.0",
            "_view_name": "LayoutView",
            "align_content": null,
            "align_items": null,
            "align_self": null,
            "border": null,
            "bottom": null,
            "display": null,
            "flex": null,
            "flex_flow": null,
            "grid_area": null,
            "grid_auto_columns": null,
            "grid_auto_flow": null,
            "grid_auto_rows": null,
            "grid_column": null,
            "grid_gap": null,
            "grid_row": null,
            "grid_template_areas": null,
            "grid_template_columns": null,
            "grid_template_rows": null,
            "height": null,
            "justify_content": null,
            "justify_items": null,
            "left": null,
            "margin": null,
            "max_height": null,
            "max_width": null,
            "min_height": null,
            "min_width": null,
            "object_fit": null,
            "object_position": null,
            "order": null,
            "overflow": null,
            "overflow_x": null,
            "overflow_y": null,
            "padding": null,
            "right": null,
            "top": null,
            "visibility": null,
            "width": null
          }
        },
        "b225a00f967a4f59bee5e4d154f75713": {
          "model_module": "@jupyter-widgets/controls",
          "model_name": "ProgressStyleModel",
          "model_module_version": "1.5.0",
          "state": {
            "_model_module": "@jupyter-widgets/controls",
            "_model_module_version": "1.5.0",
            "_model_name": "ProgressStyleModel",
            "_view_count": null,
            "_view_module": "@jupyter-widgets/base",
            "_view_module_version": "1.2.0",
            "_view_name": "StyleView",
            "bar_color": null,
            "description_width": ""
          }
        },
        "d0a44929f9d64e33adbaaedc165acb8f": {
          "model_module": "@jupyter-widgets/base",
          "model_name": "LayoutModel",
          "model_module_version": "1.2.0",
          "state": {
            "_model_module": "@jupyter-widgets/base",
            "_model_module_version": "1.2.0",
            "_model_name": "LayoutModel",
            "_view_count": null,
            "_view_module": "@jupyter-widgets/base",
            "_view_module_version": "1.2.0",
            "_view_name": "LayoutView",
            "align_content": null,
            "align_items": null,
            "align_self": null,
            "border": null,
            "bottom": null,
            "display": null,
            "flex": null,
            "flex_flow": null,
            "grid_area": null,
            "grid_auto_columns": null,
            "grid_auto_flow": null,
            "grid_auto_rows": null,
            "grid_column": null,
            "grid_gap": null,
            "grid_row": null,
            "grid_template_areas": null,
            "grid_template_columns": null,
            "grid_template_rows": null,
            "height": null,
            "justify_content": null,
            "justify_items": null,
            "left": null,
            "margin": null,
            "max_height": null,
            "max_width": null,
            "min_height": null,
            "min_width": null,
            "object_fit": null,
            "object_position": null,
            "order": null,
            "overflow": null,
            "overflow_x": null,
            "overflow_y": null,
            "padding": null,
            "right": null,
            "top": null,
            "visibility": null,
            "width": null
          }
        },
        "2311ab83d52e4a1a925ca18c5abe58cd": {
          "model_module": "@jupyter-widgets/controls",
          "model_name": "DescriptionStyleModel",
          "model_module_version": "1.5.0",
          "state": {
            "_model_module": "@jupyter-widgets/controls",
            "_model_module_version": "1.5.0",
            "_model_name": "DescriptionStyleModel",
            "_view_count": null,
            "_view_module": "@jupyter-widgets/base",
            "_view_module_version": "1.2.0",
            "_view_name": "StyleView",
            "description_width": ""
          }
        },
        "90b782f08ad146c380016a9f1e153fbf": {
          "model_module": "@jupyter-widgets/controls",
          "model_name": "HBoxModel",
          "model_module_version": "1.5.0",
          "state": {
            "_dom_classes": [],
            "_model_module": "@jupyter-widgets/controls",
            "_model_module_version": "1.5.0",
            "_model_name": "HBoxModel",
            "_view_count": null,
            "_view_module": "@jupyter-widgets/controls",
            "_view_module_version": "1.5.0",
            "_view_name": "HBoxView",
            "box_style": "",
            "children": [
              "IPY_MODEL_6c4d7257b5994bf7b71501e8b541063d",
              "IPY_MODEL_eaeab8593f6c4da781a6e8a776074066",
              "IPY_MODEL_488dee5b62414d08b8695dc98ff8d8df"
            ],
            "layout": "IPY_MODEL_2895ce0a22e34963b2f905c57e08d958"
          }
        },
        "6c4d7257b5994bf7b71501e8b541063d": {
          "model_module": "@jupyter-widgets/controls",
          "model_name": "HTMLModel",
          "model_module_version": "1.5.0",
          "state": {
            "_dom_classes": [],
            "_model_module": "@jupyter-widgets/controls",
            "_model_module_version": "1.5.0",
            "_model_name": "HTMLModel",
            "_view_count": null,
            "_view_module": "@jupyter-widgets/controls",
            "_view_module_version": "1.5.0",
            "_view_name": "HTMLView",
            "description": "",
            "description_tooltip": null,
            "layout": "IPY_MODEL_5ec34a04339545b7a566e32f41d80b69",
            "placeholder": "​",
            "style": "IPY_MODEL_fbe309a94cf0425cbdef82281695dd3f",
            "value": "100%"
          }
        },
        "eaeab8593f6c4da781a6e8a776074066": {
          "model_module": "@jupyter-widgets/controls",
          "model_name": "FloatProgressModel",
          "model_module_version": "1.5.0",
          "state": {
            "_dom_classes": [],
            "_model_module": "@jupyter-widgets/controls",
            "_model_module_version": "1.5.0",
            "_model_name": "FloatProgressModel",
            "_view_count": null,
            "_view_module": "@jupyter-widgets/controls",
            "_view_module_version": "1.5.0",
            "_view_name": "ProgressView",
            "bar_style": "success",
            "description": "",
            "description_tooltip": null,
            "layout": "IPY_MODEL_3a4a4330b7d6425db6a176a189f35a8f",
            "max": 8841823,
            "min": 0,
            "orientation": "horizontal",
            "style": "IPY_MODEL_7803a4ace0c447ef88a31860e77b96a0",
            "value": 8841823
          }
        },
        "488dee5b62414d08b8695dc98ff8d8df": {
          "model_module": "@jupyter-widgets/controls",
          "model_name": "HTMLModel",
          "model_module_version": "1.5.0",
          "state": {
            "_dom_classes": [],
            "_model_module": "@jupyter-widgets/controls",
            "_model_module_version": "1.5.0",
            "_model_name": "HTMLModel",
            "_view_count": null,
            "_view_module": "@jupyter-widgets/controls",
            "_view_module_version": "1.5.0",
            "_view_name": "HTMLView",
            "description": "",
            "description_tooltip": null,
            "layout": "IPY_MODEL_5f9d8f9c323c42ee9ab0500e9d244866",
            "placeholder": "​",
            "style": "IPY_MODEL_8692c151fcda4433ae9baa50f34a4049",
            "value": " 8841823/8841823 [01:00&lt;00:00, 145510.68it/s]"
          }
        },
        "2895ce0a22e34963b2f905c57e08d958": {
          "model_module": "@jupyter-widgets/base",
          "model_name": "LayoutModel",
          "model_module_version": "1.2.0",
          "state": {
            "_model_module": "@jupyter-widgets/base",
            "_model_module_version": "1.2.0",
            "_model_name": "LayoutModel",
            "_view_count": null,
            "_view_module": "@jupyter-widgets/base",
            "_view_module_version": "1.2.0",
            "_view_name": "LayoutView",
            "align_content": null,
            "align_items": null,
            "align_self": null,
            "border": null,
            "bottom": null,
            "display": null,
            "flex": null,
            "flex_flow": null,
            "grid_area": null,
            "grid_auto_columns": null,
            "grid_auto_flow": null,
            "grid_auto_rows": null,
            "grid_column": null,
            "grid_gap": null,
            "grid_row": null,
            "grid_template_areas": null,
            "grid_template_columns": null,
            "grid_template_rows": null,
            "height": null,
            "justify_content": null,
            "justify_items": null,
            "left": null,
            "margin": null,
            "max_height": null,
            "max_width": null,
            "min_height": null,
            "min_width": null,
            "object_fit": null,
            "object_position": null,
            "order": null,
            "overflow": null,
            "overflow_x": null,
            "overflow_y": null,
            "padding": null,
            "right": null,
            "top": null,
            "visibility": null,
            "width": null
          }
        },
        "5ec34a04339545b7a566e32f41d80b69": {
          "model_module": "@jupyter-widgets/base",
          "model_name": "LayoutModel",
          "model_module_version": "1.2.0",
          "state": {
            "_model_module": "@jupyter-widgets/base",
            "_model_module_version": "1.2.0",
            "_model_name": "LayoutModel",
            "_view_count": null,
            "_view_module": "@jupyter-widgets/base",
            "_view_module_version": "1.2.0",
            "_view_name": "LayoutView",
            "align_content": null,
            "align_items": null,
            "align_self": null,
            "border": null,
            "bottom": null,
            "display": null,
            "flex": null,
            "flex_flow": null,
            "grid_area": null,
            "grid_auto_columns": null,
            "grid_auto_flow": null,
            "grid_auto_rows": null,
            "grid_column": null,
            "grid_gap": null,
            "grid_row": null,
            "grid_template_areas": null,
            "grid_template_columns": null,
            "grid_template_rows": null,
            "height": null,
            "justify_content": null,
            "justify_items": null,
            "left": null,
            "margin": null,
            "max_height": null,
            "max_width": null,
            "min_height": null,
            "min_width": null,
            "object_fit": null,
            "object_position": null,
            "order": null,
            "overflow": null,
            "overflow_x": null,
            "overflow_y": null,
            "padding": null,
            "right": null,
            "top": null,
            "visibility": null,
            "width": null
          }
        },
        "fbe309a94cf0425cbdef82281695dd3f": {
          "model_module": "@jupyter-widgets/controls",
          "model_name": "DescriptionStyleModel",
          "model_module_version": "1.5.0",
          "state": {
            "_model_module": "@jupyter-widgets/controls",
            "_model_module_version": "1.5.0",
            "_model_name": "DescriptionStyleModel",
            "_view_count": null,
            "_view_module": "@jupyter-widgets/base",
            "_view_module_version": "1.2.0",
            "_view_name": "StyleView",
            "description_width": ""
          }
        },
        "3a4a4330b7d6425db6a176a189f35a8f": {
          "model_module": "@jupyter-widgets/base",
          "model_name": "LayoutModel",
          "model_module_version": "1.2.0",
          "state": {
            "_model_module": "@jupyter-widgets/base",
            "_model_module_version": "1.2.0",
            "_model_name": "LayoutModel",
            "_view_count": null,
            "_view_module": "@jupyter-widgets/base",
            "_view_module_version": "1.2.0",
            "_view_name": "LayoutView",
            "align_content": null,
            "align_items": null,
            "align_self": null,
            "border": null,
            "bottom": null,
            "display": null,
            "flex": null,
            "flex_flow": null,
            "grid_area": null,
            "grid_auto_columns": null,
            "grid_auto_flow": null,
            "grid_auto_rows": null,
            "grid_column": null,
            "grid_gap": null,
            "grid_row": null,
            "grid_template_areas": null,
            "grid_template_columns": null,
            "grid_template_rows": null,
            "height": null,
            "justify_content": null,
            "justify_items": null,
            "left": null,
            "margin": null,
            "max_height": null,
            "max_width": null,
            "min_height": null,
            "min_width": null,
            "object_fit": null,
            "object_position": null,
            "order": null,
            "overflow": null,
            "overflow_x": null,
            "overflow_y": null,
            "padding": null,
            "right": null,
            "top": null,
            "visibility": null,
            "width": null
          }
        },
        "7803a4ace0c447ef88a31860e77b96a0": {
          "model_module": "@jupyter-widgets/controls",
          "model_name": "ProgressStyleModel",
          "model_module_version": "1.5.0",
          "state": {
            "_model_module": "@jupyter-widgets/controls",
            "_model_module_version": "1.5.0",
            "_model_name": "ProgressStyleModel",
            "_view_count": null,
            "_view_module": "@jupyter-widgets/base",
            "_view_module_version": "1.2.0",
            "_view_name": "StyleView",
            "bar_color": null,
            "description_width": ""
          }
        },
        "5f9d8f9c323c42ee9ab0500e9d244866": {
          "model_module": "@jupyter-widgets/base",
          "model_name": "LayoutModel",
          "model_module_version": "1.2.0",
          "state": {
            "_model_module": "@jupyter-widgets/base",
            "_model_module_version": "1.2.0",
            "_model_name": "LayoutModel",
            "_view_count": null,
            "_view_module": "@jupyter-widgets/base",
            "_view_module_version": "1.2.0",
            "_view_name": "LayoutView",
            "align_content": null,
            "align_items": null,
            "align_self": null,
            "border": null,
            "bottom": null,
            "display": null,
            "flex": null,
            "flex_flow": null,
            "grid_area": null,
            "grid_auto_columns": null,
            "grid_auto_flow": null,
            "grid_auto_rows": null,
            "grid_column": null,
            "grid_gap": null,
            "grid_row": null,
            "grid_template_areas": null,
            "grid_template_columns": null,
            "grid_template_rows": null,
            "height": null,
            "justify_content": null,
            "justify_items": null,
            "left": null,
            "margin": null,
            "max_height": null,
            "max_width": null,
            "min_height": null,
            "min_width": null,
            "object_fit": null,
            "object_position": null,
            "order": null,
            "overflow": null,
            "overflow_x": null,
            "overflow_y": null,
            "padding": null,
            "right": null,
            "top": null,
            "visibility": null,
            "width": null
          }
        },
        "8692c151fcda4433ae9baa50f34a4049": {
          "model_module": "@jupyter-widgets/controls",
          "model_name": "DescriptionStyleModel",
          "model_module_version": "1.5.0",
          "state": {
            "_model_module": "@jupyter-widgets/controls",
            "_model_module_version": "1.5.0",
            "_model_name": "DescriptionStyleModel",
            "_view_count": null,
            "_view_module": "@jupyter-widgets/base",
            "_view_module_version": "1.2.0",
            "_view_name": "StyleView",
            "description_width": ""
          }
        },
        "41a85f4834c54065989571eb0d3fd0c7": {
          "model_module": "@jupyter-widgets/controls",
          "model_name": "HBoxModel",
          "model_module_version": "1.5.0",
          "state": {
            "_dom_classes": [],
            "_model_module": "@jupyter-widgets/controls",
            "_model_module_version": "1.5.0",
            "_model_name": "HBoxModel",
            "_view_count": null,
            "_view_module": "@jupyter-widgets/controls",
            "_view_module_version": "1.5.0",
            "_view_name": "HBoxView",
            "box_style": "",
            "children": [
              "IPY_MODEL_dcabd71eb31d4114a68b4c129be682be",
              "IPY_MODEL_acb08e7c4b80484c8aea102630050bc7",
              "IPY_MODEL_0c59e46de817434d81dfefbd5b51652f"
            ],
            "layout": "IPY_MODEL_f409c362acc641fd924532cfad2447e0"
          }
        },
        "dcabd71eb31d4114a68b4c129be682be": {
          "model_module": "@jupyter-widgets/controls",
          "model_name": "HTMLModel",
          "model_module_version": "1.5.0",
          "state": {
            "_dom_classes": [],
            "_model_module": "@jupyter-widgets/controls",
            "_model_module_version": "1.5.0",
            "_model_name": "HTMLModel",
            "_view_count": null,
            "_view_module": "@jupyter-widgets/controls",
            "_view_module_version": "1.5.0",
            "_view_name": "HTMLView",
            "description": "",
            "description_tooltip": null,
            "layout": "IPY_MODEL_f2bf4038817d484dbd1b95272fd7b6aa",
            "placeholder": "​",
            "style": "IPY_MODEL_262f1fedad2d4adab3364ac7769ed7b6",
            "value": "Batches: 100%"
          }
        },
        "acb08e7c4b80484c8aea102630050bc7": {
          "model_module": "@jupyter-widgets/controls",
          "model_name": "FloatProgressModel",
          "model_module_version": "1.5.0",
          "state": {
            "_dom_classes": [],
            "_model_module": "@jupyter-widgets/controls",
            "_model_module_version": "1.5.0",
            "_model_name": "FloatProgressModel",
            "_view_count": null,
            "_view_module": "@jupyter-widgets/controls",
            "_view_module_version": "1.5.0",
            "_view_name": "ProgressView",
            "bar_style": "success",
            "description": "",
            "description_tooltip": null,
            "layout": "IPY_MODEL_cad70629d9a041cf9597383fbb54fa56",
            "max": 6476,
            "min": 0,
            "orientation": "horizontal",
            "style": "IPY_MODEL_be7f8db384d244aabd35a2be3257fcd2",
            "value": 6476
          }
        },
        "0c59e46de817434d81dfefbd5b51652f": {
          "model_module": "@jupyter-widgets/controls",
          "model_name": "HTMLModel",
          "model_module_version": "1.5.0",
          "state": {
            "_dom_classes": [],
            "_model_module": "@jupyter-widgets/controls",
            "_model_module_version": "1.5.0",
            "_model_name": "HTMLModel",
            "_view_count": null,
            "_view_module": "@jupyter-widgets/controls",
            "_view_module_version": "1.5.0",
            "_view_name": "HTMLView",
            "description": "",
            "description_tooltip": null,
            "layout": "IPY_MODEL_119ad5284197488689925d70b75dc084",
            "placeholder": "​",
            "style": "IPY_MODEL_07f5d2560ba64c79b592fe8079a9f2f0",
            "value": " 6476/6476 [12:26&lt;00:00, 29.13it/s]"
          }
        },
        "f409c362acc641fd924532cfad2447e0": {
          "model_module": "@jupyter-widgets/base",
          "model_name": "LayoutModel",
          "model_module_version": "1.2.0",
          "state": {
            "_model_module": "@jupyter-widgets/base",
            "_model_module_version": "1.2.0",
            "_model_name": "LayoutModel",
            "_view_count": null,
            "_view_module": "@jupyter-widgets/base",
            "_view_module_version": "1.2.0",
            "_view_name": "LayoutView",
            "align_content": null,
            "align_items": null,
            "align_self": null,
            "border": null,
            "bottom": null,
            "display": null,
            "flex": null,
            "flex_flow": null,
            "grid_area": null,
            "grid_auto_columns": null,
            "grid_auto_flow": null,
            "grid_auto_rows": null,
            "grid_column": null,
            "grid_gap": null,
            "grid_row": null,
            "grid_template_areas": null,
            "grid_template_columns": null,
            "grid_template_rows": null,
            "height": null,
            "justify_content": null,
            "justify_items": null,
            "left": null,
            "margin": null,
            "max_height": null,
            "max_width": null,
            "min_height": null,
            "min_width": null,
            "object_fit": null,
            "object_position": null,
            "order": null,
            "overflow": null,
            "overflow_x": null,
            "overflow_y": null,
            "padding": null,
            "right": null,
            "top": null,
            "visibility": null,
            "width": null
          }
        },
        "f2bf4038817d484dbd1b95272fd7b6aa": {
          "model_module": "@jupyter-widgets/base",
          "model_name": "LayoutModel",
          "model_module_version": "1.2.0",
          "state": {
            "_model_module": "@jupyter-widgets/base",
            "_model_module_version": "1.2.0",
            "_model_name": "LayoutModel",
            "_view_count": null,
            "_view_module": "@jupyter-widgets/base",
            "_view_module_version": "1.2.0",
            "_view_name": "LayoutView",
            "align_content": null,
            "align_items": null,
            "align_self": null,
            "border": null,
            "bottom": null,
            "display": null,
            "flex": null,
            "flex_flow": null,
            "grid_area": null,
            "grid_auto_columns": null,
            "grid_auto_flow": null,
            "grid_auto_rows": null,
            "grid_column": null,
            "grid_gap": null,
            "grid_row": null,
            "grid_template_areas": null,
            "grid_template_columns": null,
            "grid_template_rows": null,
            "height": null,
            "justify_content": null,
            "justify_items": null,
            "left": null,
            "margin": null,
            "max_height": null,
            "max_width": null,
            "min_height": null,
            "min_width": null,
            "object_fit": null,
            "object_position": null,
            "order": null,
            "overflow": null,
            "overflow_x": null,
            "overflow_y": null,
            "padding": null,
            "right": null,
            "top": null,
            "visibility": null,
            "width": null
          }
        },
        "262f1fedad2d4adab3364ac7769ed7b6": {
          "model_module": "@jupyter-widgets/controls",
          "model_name": "DescriptionStyleModel",
          "model_module_version": "1.5.0",
          "state": {
            "_model_module": "@jupyter-widgets/controls",
            "_model_module_version": "1.5.0",
            "_model_name": "DescriptionStyleModel",
            "_view_count": null,
            "_view_module": "@jupyter-widgets/base",
            "_view_module_version": "1.2.0",
            "_view_name": "StyleView",
            "description_width": ""
          }
        },
        "cad70629d9a041cf9597383fbb54fa56": {
          "model_module": "@jupyter-widgets/base",
          "model_name": "LayoutModel",
          "model_module_version": "1.2.0",
          "state": {
            "_model_module": "@jupyter-widgets/base",
            "_model_module_version": "1.2.0",
            "_model_name": "LayoutModel",
            "_view_count": null,
            "_view_module": "@jupyter-widgets/base",
            "_view_module_version": "1.2.0",
            "_view_name": "LayoutView",
            "align_content": null,
            "align_items": null,
            "align_self": null,
            "border": null,
            "bottom": null,
            "display": null,
            "flex": null,
            "flex_flow": null,
            "grid_area": null,
            "grid_auto_columns": null,
            "grid_auto_flow": null,
            "grid_auto_rows": null,
            "grid_column": null,
            "grid_gap": null,
            "grid_row": null,
            "grid_template_areas": null,
            "grid_template_columns": null,
            "grid_template_rows": null,
            "height": null,
            "justify_content": null,
            "justify_items": null,
            "left": null,
            "margin": null,
            "max_height": null,
            "max_width": null,
            "min_height": null,
            "min_width": null,
            "object_fit": null,
            "object_position": null,
            "order": null,
            "overflow": null,
            "overflow_x": null,
            "overflow_y": null,
            "padding": null,
            "right": null,
            "top": null,
            "visibility": null,
            "width": null
          }
        },
        "be7f8db384d244aabd35a2be3257fcd2": {
          "model_module": "@jupyter-widgets/controls",
          "model_name": "ProgressStyleModel",
          "model_module_version": "1.5.0",
          "state": {
            "_model_module": "@jupyter-widgets/controls",
            "_model_module_version": "1.5.0",
            "_model_name": "ProgressStyleModel",
            "_view_count": null,
            "_view_module": "@jupyter-widgets/base",
            "_view_module_version": "1.2.0",
            "_view_name": "StyleView",
            "bar_color": null,
            "description_width": ""
          }
        },
        "119ad5284197488689925d70b75dc084": {
          "model_module": "@jupyter-widgets/base",
          "model_name": "LayoutModel",
          "model_module_version": "1.2.0",
          "state": {
            "_model_module": "@jupyter-widgets/base",
            "_model_module_version": "1.2.0",
            "_model_name": "LayoutModel",
            "_view_count": null,
            "_view_module": "@jupyter-widgets/base",
            "_view_module_version": "1.2.0",
            "_view_name": "LayoutView",
            "align_content": null,
            "align_items": null,
            "align_self": null,
            "border": null,
            "bottom": null,
            "display": null,
            "flex": null,
            "flex_flow": null,
            "grid_area": null,
            "grid_auto_columns": null,
            "grid_auto_flow": null,
            "grid_auto_rows": null,
            "grid_column": null,
            "grid_gap": null,
            "grid_row": null,
            "grid_template_areas": null,
            "grid_template_columns": null,
            "grid_template_rows": null,
            "height": null,
            "justify_content": null,
            "justify_items": null,
            "left": null,
            "margin": null,
            "max_height": null,
            "max_width": null,
            "min_height": null,
            "min_width": null,
            "object_fit": null,
            "object_position": null,
            "order": null,
            "overflow": null,
            "overflow_x": null,
            "overflow_y": null,
            "padding": null,
            "right": null,
            "top": null,
            "visibility": null,
            "width": null
          }
        },
        "07f5d2560ba64c79b592fe8079a9f2f0": {
          "model_module": "@jupyter-widgets/controls",
          "model_name": "DescriptionStyleModel",
          "model_module_version": "1.5.0",
          "state": {
            "_model_module": "@jupyter-widgets/controls",
            "_model_module_version": "1.5.0",
            "_model_name": "DescriptionStyleModel",
            "_view_count": null,
            "_view_module": "@jupyter-widgets/base",
            "_view_module_version": "1.2.0",
            "_view_name": "StyleView",
            "description_width": ""
          }
        }
      }
    }
  },
  "cells": [
    {
      "cell_type": "markdown",
      "metadata": {
        "id": "view-in-github",
        "colab_type": "text"
      },
      "source": [
        "<a href=\"https://colab.research.google.com/github/jyoung1996/beir/blob/main/cs224n_clusters.ipynb\" target=\"_parent\"><img src=\"https://colab.research.google.com/assets/colab-badge.svg\" alt=\"Open In Colab\"/></a>"
      ]
    },
    {
      "cell_type": "code",
      "execution_count": 1,
      "metadata": {
        "colab": {
          "base_uri": "https://localhost:8080/"
        },
        "id": "jar_SWIOBUgg",
        "outputId": "4d173d47-e758-4f01-d45c-6141ecda62b5"
      },
      "outputs": [
        {
          "output_type": "stream",
          "name": "stdout",
          "text": [
            "Sun Mar 13 02:02:49 2022       \n",
            "+-----------------------------------------------------------------------------+\n",
            "| NVIDIA-SMI 460.32.03    Driver Version: 460.32.03    CUDA Version: 11.2     |\n",
            "|-------------------------------+----------------------+----------------------+\n",
            "| GPU  Name        Persistence-M| Bus-Id        Disp.A | Volatile Uncorr. ECC |\n",
            "| Fan  Temp  Perf  Pwr:Usage/Cap|         Memory-Usage | GPU-Util  Compute M. |\n",
            "|                               |                      |               MIG M. |\n",
            "|===============================+======================+======================|\n",
            "|   0  Tesla P100-PCIE...  Off  | 00000000:00:04.0 Off |                    0 |\n",
            "| N/A   34C    P0    26W / 250W |      0MiB / 16280MiB |      0%      Default |\n",
            "|                               |                      |                  N/A |\n",
            "+-------------------------------+----------------------+----------------------+\n",
            "                                                                               \n",
            "+-----------------------------------------------------------------------------+\n",
            "| Processes:                                                                  |\n",
            "|  GPU   GI   CI        PID   Type   Process name                  GPU Memory |\n",
            "|        ID   ID                                                   Usage      |\n",
            "|=============================================================================|\n",
            "|  No running processes found                                                 |\n",
            "+-----------------------------------------------------------------------------+\n"
          ]
        }
      ],
      "source": [
        "!nvidia-smi"
      ]
    },
    {
      "cell_type": "code",
      "source": [
        "# Install the beir PyPI package\n",
        "!pip install beir\n",
        "!pip install umap "
      ],
      "metadata": {
        "colab": {
          "base_uri": "https://localhost:8080/"
        },
        "id": "K13Z80P5Bakm",
        "outputId": "bc30b247-abf4-4e59-e031-a96f7e5d37fd"
      },
      "execution_count": 2,
      "outputs": [
        {
          "output_type": "stream",
          "name": "stdout",
          "text": [
            "Requirement already satisfied: beir in /usr/local/lib/python3.7/dist-packages (0.2.3)\n",
            "Requirement already satisfied: tensorflow>=2.2.0 in /usr/local/lib/python3.7/dist-packages (from beir) (2.8.0)\n",
            "Requirement already satisfied: tensorflow-hub in /usr/local/lib/python3.7/dist-packages (from beir) (0.12.0)\n",
            "Requirement already satisfied: tensorflow-text in /usr/local/lib/python3.7/dist-packages (from beir) (2.8.1)\n",
            "Requirement already satisfied: pytrec-eval in /usr/local/lib/python3.7/dist-packages (from beir) (0.5)\n",
            "Requirement already satisfied: faiss-cpu in /usr/local/lib/python3.7/dist-packages (from beir) (1.7.2)\n",
            "Requirement already satisfied: elasticsearch in /usr/local/lib/python3.7/dist-packages (from beir) (7.17.1)\n",
            "Requirement already satisfied: sentence-transformers in /usr/local/lib/python3.7/dist-packages (from beir) (2.2.0)\n",
            "Requirement already satisfied: opt-einsum>=2.3.2 in /usr/local/lib/python3.7/dist-packages (from tensorflow>=2.2.0->beir) (3.3.0)\n",
            "Requirement already satisfied: gast>=0.2.1 in /usr/local/lib/python3.7/dist-packages (from tensorflow>=2.2.0->beir) (0.5.3)\n",
            "Requirement already satisfied: absl-py>=0.4.0 in /usr/local/lib/python3.7/dist-packages (from tensorflow>=2.2.0->beir) (1.0.0)\n",
            "Requirement already satisfied: protobuf>=3.9.2 in /usr/local/lib/python3.7/dist-packages (from tensorflow>=2.2.0->beir) (3.17.3)\n",
            "Requirement already satisfied: tensorflow-io-gcs-filesystem>=0.23.1 in /usr/local/lib/python3.7/dist-packages (from tensorflow>=2.2.0->beir) (0.24.0)\n",
            "Requirement already satisfied: flatbuffers>=1.12 in /usr/local/lib/python3.7/dist-packages (from tensorflow>=2.2.0->beir) (2.0)\n",
            "Requirement already satisfied: termcolor>=1.1.0 in /usr/local/lib/python3.7/dist-packages (from tensorflow>=2.2.0->beir) (1.1.0)\n",
            "Requirement already satisfied: numpy>=1.20 in /usr/local/lib/python3.7/dist-packages (from tensorflow>=2.2.0->beir) (1.21.5)\n",
            "Requirement already satisfied: grpcio<2.0,>=1.24.3 in /usr/local/lib/python3.7/dist-packages (from tensorflow>=2.2.0->beir) (1.44.0)\n",
            "Requirement already satisfied: typing-extensions>=3.6.6 in /usr/local/lib/python3.7/dist-packages (from tensorflow>=2.2.0->beir) (3.10.0.2)\n",
            "Requirement already satisfied: tensorboard<2.9,>=2.8 in /usr/local/lib/python3.7/dist-packages (from tensorflow>=2.2.0->beir) (2.8.0)\n",
            "Requirement already satisfied: google-pasta>=0.1.1 in /usr/local/lib/python3.7/dist-packages (from tensorflow>=2.2.0->beir) (0.2.0)\n",
            "Requirement already satisfied: six>=1.12.0 in /usr/local/lib/python3.7/dist-packages (from tensorflow>=2.2.0->beir) (1.15.0)\n",
            "Requirement already satisfied: tf-estimator-nightly==2.8.0.dev2021122109 in /usr/local/lib/python3.7/dist-packages (from tensorflow>=2.2.0->beir) (2.8.0.dev2021122109)\n",
            "Requirement already satisfied: keras-preprocessing>=1.1.1 in /usr/local/lib/python3.7/dist-packages (from tensorflow>=2.2.0->beir) (1.1.2)\n",
            "Requirement already satisfied: wrapt>=1.11.0 in /usr/local/lib/python3.7/dist-packages (from tensorflow>=2.2.0->beir) (1.13.3)\n",
            "Requirement already satisfied: setuptools in /usr/local/lib/python3.7/dist-packages (from tensorflow>=2.2.0->beir) (57.4.0)\n",
            "Requirement already satisfied: h5py>=2.9.0 in /usr/local/lib/python3.7/dist-packages (from tensorflow>=2.2.0->beir) (3.1.0)\n",
            "Requirement already satisfied: libclang>=9.0.1 in /usr/local/lib/python3.7/dist-packages (from tensorflow>=2.2.0->beir) (13.0.0)\n",
            "Requirement already satisfied: astunparse>=1.6.0 in /usr/local/lib/python3.7/dist-packages (from tensorflow>=2.2.0->beir) (1.6.3)\n",
            "Requirement already satisfied: keras<2.9,>=2.8.0rc0 in /usr/local/lib/python3.7/dist-packages (from tensorflow>=2.2.0->beir) (2.8.0)\n",
            "Requirement already satisfied: wheel<1.0,>=0.23.0 in /usr/local/lib/python3.7/dist-packages (from astunparse>=1.6.0->tensorflow>=2.2.0->beir) (0.37.1)\n",
            "Requirement already satisfied: cached-property in /usr/local/lib/python3.7/dist-packages (from h5py>=2.9.0->tensorflow>=2.2.0->beir) (1.5.2)\n",
            "Requirement already satisfied: tensorboard-plugin-wit>=1.6.0 in /usr/local/lib/python3.7/dist-packages (from tensorboard<2.9,>=2.8->tensorflow>=2.2.0->beir) (1.8.1)\n",
            "Requirement already satisfied: google-auth<3,>=1.6.3 in /usr/local/lib/python3.7/dist-packages (from tensorboard<2.9,>=2.8->tensorflow>=2.2.0->beir) (1.35.0)\n",
            "Requirement already satisfied: werkzeug>=0.11.15 in /usr/local/lib/python3.7/dist-packages (from tensorboard<2.9,>=2.8->tensorflow>=2.2.0->beir) (1.0.1)\n",
            "Requirement already satisfied: markdown>=2.6.8 in /usr/local/lib/python3.7/dist-packages (from tensorboard<2.9,>=2.8->tensorflow>=2.2.0->beir) (3.3.6)\n",
            "Requirement already satisfied: tensorboard-data-server<0.7.0,>=0.6.0 in /usr/local/lib/python3.7/dist-packages (from tensorboard<2.9,>=2.8->tensorflow>=2.2.0->beir) (0.6.1)\n",
            "Requirement already satisfied: google-auth-oauthlib<0.5,>=0.4.1 in /usr/local/lib/python3.7/dist-packages (from tensorboard<2.9,>=2.8->tensorflow>=2.2.0->beir) (0.4.6)\n",
            "Requirement already satisfied: requests<3,>=2.21.0 in /usr/local/lib/python3.7/dist-packages (from tensorboard<2.9,>=2.8->tensorflow>=2.2.0->beir) (2.23.0)\n",
            "Requirement already satisfied: cachetools<5.0,>=2.0.0 in /usr/local/lib/python3.7/dist-packages (from google-auth<3,>=1.6.3->tensorboard<2.9,>=2.8->tensorflow>=2.2.0->beir) (4.2.4)\n",
            "Requirement already satisfied: rsa<5,>=3.1.4 in /usr/local/lib/python3.7/dist-packages (from google-auth<3,>=1.6.3->tensorboard<2.9,>=2.8->tensorflow>=2.2.0->beir) (4.8)\n",
            "Requirement already satisfied: pyasn1-modules>=0.2.1 in /usr/local/lib/python3.7/dist-packages (from google-auth<3,>=1.6.3->tensorboard<2.9,>=2.8->tensorflow>=2.2.0->beir) (0.2.8)\n",
            "Requirement already satisfied: requests-oauthlib>=0.7.0 in /usr/local/lib/python3.7/dist-packages (from google-auth-oauthlib<0.5,>=0.4.1->tensorboard<2.9,>=2.8->tensorflow>=2.2.0->beir) (1.3.1)\n",
            "Requirement already satisfied: importlib-metadata>=4.4 in /usr/local/lib/python3.7/dist-packages (from markdown>=2.6.8->tensorboard<2.9,>=2.8->tensorflow>=2.2.0->beir) (4.11.2)\n",
            "Requirement already satisfied: zipp>=0.5 in /usr/local/lib/python3.7/dist-packages (from importlib-metadata>=4.4->markdown>=2.6.8->tensorboard<2.9,>=2.8->tensorflow>=2.2.0->beir) (3.7.0)\n",
            "Requirement already satisfied: pyasn1<0.5.0,>=0.4.6 in /usr/local/lib/python3.7/dist-packages (from pyasn1-modules>=0.2.1->google-auth<3,>=1.6.3->tensorboard<2.9,>=2.8->tensorflow>=2.2.0->beir) (0.4.8)\n",
            "Requirement already satisfied: idna<3,>=2.5 in /usr/local/lib/python3.7/dist-packages (from requests<3,>=2.21.0->tensorboard<2.9,>=2.8->tensorflow>=2.2.0->beir) (2.10)\n",
            "Requirement already satisfied: chardet<4,>=3.0.2 in /usr/local/lib/python3.7/dist-packages (from requests<3,>=2.21.0->tensorboard<2.9,>=2.8->tensorflow>=2.2.0->beir) (3.0.4)\n",
            "Requirement already satisfied: urllib3!=1.25.0,!=1.25.1,<1.26,>=1.21.1 in /usr/local/lib/python3.7/dist-packages (from requests<3,>=2.21.0->tensorboard<2.9,>=2.8->tensorflow>=2.2.0->beir) (1.24.3)\n",
            "Requirement already satisfied: certifi>=2017.4.17 in /usr/local/lib/python3.7/dist-packages (from requests<3,>=2.21.0->tensorboard<2.9,>=2.8->tensorflow>=2.2.0->beir) (2021.10.8)\n",
            "Requirement already satisfied: oauthlib>=3.0.0 in /usr/local/lib/python3.7/dist-packages (from requests-oauthlib>=0.7.0->google-auth-oauthlib<0.5,>=0.4.1->tensorboard<2.9,>=2.8->tensorflow>=2.2.0->beir) (3.2.0)\n",
            "Requirement already satisfied: torchvision in /usr/local/lib/python3.7/dist-packages (from sentence-transformers->beir) (0.11.1+cu111)\n",
            "Requirement already satisfied: nltk in /usr/local/lib/python3.7/dist-packages (from sentence-transformers->beir) (3.2.5)\n",
            "Requirement already satisfied: tqdm in /usr/local/lib/python3.7/dist-packages (from sentence-transformers->beir) (4.63.0)\n",
            "Requirement already satisfied: torch>=1.6.0 in /usr/local/lib/python3.7/dist-packages (from sentence-transformers->beir) (1.10.0+cu111)\n",
            "Requirement already satisfied: huggingface-hub in /usr/local/lib/python3.7/dist-packages (from sentence-transformers->beir) (0.4.0)\n",
            "Requirement already satisfied: scipy in /usr/local/lib/python3.7/dist-packages (from sentence-transformers->beir) (1.4.1)\n",
            "Requirement already satisfied: sentencepiece in /usr/local/lib/python3.7/dist-packages (from sentence-transformers->beir) (0.1.96)\n",
            "Requirement already satisfied: transformers<5.0.0,>=4.6.0 in /usr/local/lib/python3.7/dist-packages (from sentence-transformers->beir) (4.17.0)\n",
            "Requirement already satisfied: scikit-learn in /usr/local/lib/python3.7/dist-packages (from sentence-transformers->beir) (1.0.2)\n",
            "Requirement already satisfied: filelock in /usr/local/lib/python3.7/dist-packages (from transformers<5.0.0,>=4.6.0->sentence-transformers->beir) (3.6.0)\n",
            "Requirement already satisfied: tokenizers!=0.11.3,>=0.11.1 in /usr/local/lib/python3.7/dist-packages (from transformers<5.0.0,>=4.6.0->sentence-transformers->beir) (0.11.6)\n",
            "Requirement already satisfied: sacremoses in /usr/local/lib/python3.7/dist-packages (from transformers<5.0.0,>=4.6.0->sentence-transformers->beir) (0.0.47)\n",
            "Requirement already satisfied: pyyaml>=5.1 in /usr/local/lib/python3.7/dist-packages (from transformers<5.0.0,>=4.6.0->sentence-transformers->beir) (6.0)\n",
            "Requirement already satisfied: regex!=2019.12.17 in /usr/local/lib/python3.7/dist-packages (from transformers<5.0.0,>=4.6.0->sentence-transformers->beir) (2019.12.20)\n",
            "Requirement already satisfied: packaging>=20.0 in /usr/local/lib/python3.7/dist-packages (from transformers<5.0.0,>=4.6.0->sentence-transformers->beir) (21.3)\n",
            "Requirement already satisfied: pyparsing!=3.0.5,>=2.0.2 in /usr/local/lib/python3.7/dist-packages (from packaging>=20.0->transformers<5.0.0,>=4.6.0->sentence-transformers->beir) (3.0.7)\n",
            "Requirement already satisfied: click in /usr/local/lib/python3.7/dist-packages (from sacremoses->transformers<5.0.0,>=4.6.0->sentence-transformers->beir) (7.1.2)\n",
            "Requirement already satisfied: joblib in /usr/local/lib/python3.7/dist-packages (from sacremoses->transformers<5.0.0,>=4.6.0->sentence-transformers->beir) (1.1.0)\n",
            "Requirement already satisfied: threadpoolctl>=2.0.0 in /usr/local/lib/python3.7/dist-packages (from scikit-learn->sentence-transformers->beir) (3.1.0)\n",
            "Requirement already satisfied: pillow!=8.3.0,>=5.3.0 in /usr/local/lib/python3.7/dist-packages (from torchvision->sentence-transformers->beir) (7.1.2)\n",
            "Collecting umap\n",
            "  Using cached umap-0.1.1-py3-none-any.whl\n",
            "Installing collected packages: umap\n",
            "Successfully installed umap-0.1.1\n"
          ]
        }
      ]
    },
    {
      "cell_type": "code",
      "source": [
        "import json\n",
        "import random\n",
        "import pathlib, os\n",
        "import logging\n",
        "from collections import Counter\n",
        "from tqdm import tqdm\n",
        "from beir import util, LoggingHandler\n",
        "from beir import util\n",
        "from beir.datasets.data_loader import GenericDataLoader\n",
        "from beir.retrieval.evaluation import EvaluateRetrieval\n",
        "from beir.retrieval import models\n",
        "from beir.retrieval.search.dense import DenseRetrievalExactSearch as DRES"
      ],
      "metadata": {
        "id": "JMtHKqX2BcOG",
        "colab": {
          "base_uri": "https://localhost:8080/"
        },
        "outputId": "5709fd17-0925-41ae-c82f-87dd03c30e34"
      },
      "execution_count": 3,
      "outputs": [
        {
          "output_type": "stream",
          "name": "stderr",
          "text": [
            "/usr/local/lib/python3.7/dist-packages/beir/util.py:2: TqdmExperimentalWarning: Using `tqdm.autonotebook.tqdm` in notebook mode. Use `tqdm.tqdm` instead to force console mode (e.g. in jupyter console)\n",
            "  from tqdm.autonotebook import tqdm\n"
          ]
        }
      ]
    },
    {
      "cell_type": "code",
      "source": [
        "#### Just some code to print debug information to stdout\n",
        "logging.basicConfig(format='%(asctime)s - %(message)s',\n",
        "                    datefmt='%Y-%m-%d %H:%M:%S',\n",
        "                    level=logging.INFO,\n",
        "                    handlers=[LoggingHandler()])\n",
        "#### /print debug information to stdout"
      ],
      "metadata": {
        "id": "M4q6zfkQCI47"
      },
      "execution_count": 4,
      "outputs": []
    },
    {
      "cell_type": "code",
      "source": [
        "datasets = ['trec-covid', 'nfcorpus', 'nq', 'scifact']\n",
        "dataset = \"msmarco\"\n",
        "url = \"https://public.ukp.informatik.tu-darmstadt.de/thakur/BEIR/datasets/{}.zip\".format(dataset)\n",
        "out_dir = os.path.join(os.getcwd(), \"datasets\")\n",
        "data_path = util.download_and_unzip(url, out_dir)\n",
        "print(\"Dataset downloaded here: {}\".format(data_path))"
      ],
      "metadata": {
        "colab": {
          "base_uri": "https://localhost:8080/"
        },
        "id": "SwinMwNeCKh0",
        "outputId": "66039f4b-710c-4f7d-9ce3-54c1ab008a81"
      },
      "execution_count": 5,
      "outputs": [
        {
          "output_type": "stream",
          "name": "stdout",
          "text": [
            "Dataset downloaded here: /content/datasets/msmarco\n"
          ]
        }
      ]
    },
    {
      "cell_type": "code",
      "source": [
        "dataset = \"msmarco\"\n",
        "data_path_domain = f\"datasets/{dataset}\"\n",
        "\n",
        "corpus, queries, qrels_train = GenericDataLoader(data_path_domain).load(split=\"train\") \n",
        "_, _, qrels_dev = GenericDataLoader(data_path_domain).load(split=\"dev\") \n",
        "_, _, qrels_test = GenericDataLoader(data_path_domain).load(split=\"test\") "
      ],
      "metadata": {
        "colab": {
          "base_uri": "https://localhost:8080/",
          "height": 454,
          "referenced_widgets": [
            "8fb6dbc59061427b8f394e1bf28ff4f1",
            "730f3aa2251b4c7f9fbdaca96d43a8c0",
            "9de815af01a04ebbb8c9e6ff0c355625",
            "eec52a78cce441819a5fe6b0dc41b0c5",
            "ce57c0a77f6f4750baae8575628b06a4",
            "705341710b354f59a273fddba75827f5",
            "da84b70975fe4935a65a67a3c5fb246c",
            "4dd31e835f8840e0925a59920ea9e52f",
            "af54824865b24e4ab6c0162fded28f39",
            "f1b7200ad67648f48b8f8576adaabc13",
            "29e6cd1c7a8e45848533bdbe80a4f2d3",
            "3f0e696429a04d44a82f83ad1aaa3f95",
            "de03ea3fb4d14067a00814f503c210e5",
            "b6d5ff4b7d8947d98e7f84c6d5974dca",
            "86231f46c3974e0b977049ad6b547da1",
            "00c96b3349894044b6e14603cbc279de",
            "977fe7bb42ec4fb0aa4d28b1adc9f2e8",
            "708a2fa0346c4ba58f851de99441bd98",
            "39b2f5c7acac4f059556f15b41756100",
            "b225a00f967a4f59bee5e4d154f75713",
            "d0a44929f9d64e33adbaaedc165acb8f",
            "2311ab83d52e4a1a925ca18c5abe58cd",
            "90b782f08ad146c380016a9f1e153fbf",
            "6c4d7257b5994bf7b71501e8b541063d",
            "eaeab8593f6c4da781a6e8a776074066",
            "488dee5b62414d08b8695dc98ff8d8df",
            "2895ce0a22e34963b2f905c57e08d958",
            "5ec34a04339545b7a566e32f41d80b69",
            "fbe309a94cf0425cbdef82281695dd3f",
            "3a4a4330b7d6425db6a176a189f35a8f",
            "7803a4ace0c447ef88a31860e77b96a0",
            "5f9d8f9c323c42ee9ab0500e9d244866",
            "8692c151fcda4433ae9baa50f34a4049"
          ]
        },
        "id": "D22gsE8OCPuZ",
        "outputId": "29bb8552-e8f4-4bbc-b0f6-ad8a0a615f44"
      },
      "execution_count": 6,
      "outputs": [
        {
          "output_type": "stream",
          "name": "stdout",
          "text": [
            "2022-03-13 02:03:28 - Loading Corpus...\n"
          ]
        },
        {
          "output_type": "display_data",
          "data": {
            "text/plain": [
              "  0%|          | 0/8841823 [00:00<?, ?it/s]"
            ],
            "application/vnd.jupyter.widget-view+json": {
              "version_major": 2,
              "version_minor": 0,
              "model_id": "8fb6dbc59061427b8f394e1bf28ff4f1"
            }
          },
          "metadata": {}
        },
        {
          "output_type": "stream",
          "name": "stdout",
          "text": [
            "2022-03-13 02:04:36 - Loaded 8841823 TRAIN Documents.\n",
            "2022-03-13 02:04:37 - Doc Example: {'text': 'The presence of communication amid scientific minds was equally important to the success of the Manhattan Project as scientific intellect was. The only cloud hanging over the impressive achievement of the atomic researchers and engineers is what their success truly meant; hundreds of thousands of innocent lives obliterated.', 'title': ''}\n",
            "2022-03-13 02:04:37 - Loading Queries...\n",
            "2022-03-13 02:04:39 - Loaded 502939 TRAIN Queries.\n",
            "2022-03-13 02:04:39 - Query Example: )what was the immediate impact of the success of the manhattan project?\n",
            "2022-03-13 02:04:39 - Loading Corpus...\n"
          ]
        },
        {
          "output_type": "display_data",
          "data": {
            "text/plain": [
              "  0%|          | 0/8841823 [00:00<?, ?it/s]"
            ],
            "application/vnd.jupyter.widget-view+json": {
              "version_major": 2,
              "version_minor": 0,
              "model_id": "3f0e696429a04d44a82f83ad1aaa3f95"
            }
          },
          "metadata": {}
        },
        {
          "output_type": "stream",
          "name": "stdout",
          "text": [
            "2022-03-13 02:05:35 - Loaded 8841823 DEV Documents.\n",
            "2022-03-13 02:05:35 - Doc Example: {'text': 'The presence of communication amid scientific minds was equally important to the success of the Manhattan Project as scientific intellect was. The only cloud hanging over the impressive achievement of the atomic researchers and engineers is what their success truly meant; hundreds of thousands of innocent lives obliterated.', 'title': ''}\n",
            "2022-03-13 02:05:35 - Loading Queries...\n",
            "2022-03-13 02:05:37 - Loaded 6980 DEV Queries.\n",
            "2022-03-13 02:05:37 - Query Example: how many years did william bradford serve as governor of plymouth colony?\n",
            "2022-03-13 02:05:39 - Loading Corpus...\n"
          ]
        },
        {
          "output_type": "display_data",
          "data": {
            "text/plain": [
              "  0%|          | 0/8841823 [00:00<?, ?it/s]"
            ],
            "application/vnd.jupyter.widget-view+json": {
              "version_major": 2,
              "version_minor": 0,
              "model_id": "90b782f08ad146c380016a9f1e153fbf"
            }
          },
          "metadata": {}
        },
        {
          "output_type": "stream",
          "name": "stdout",
          "text": [
            "2022-03-13 02:06:42 - Loaded 8841823 TEST Documents.\n",
            "2022-03-13 02:06:42 - Doc Example: {'text': 'The presence of communication amid scientific minds was equally important to the success of the Manhattan Project as scientific intellect was. The only cloud hanging over the impressive achievement of the atomic researchers and engineers is what their success truly meant; hundreds of thousands of innocent lives obliterated.', 'title': ''}\n",
            "2022-03-13 02:06:42 - Loading Queries...\n",
            "2022-03-13 02:06:44 - Loaded 43 TEST Queries.\n",
            "2022-03-13 02:06:44 - Query Example: anthropological definition of environment\n"
          ]
        }
      ]
    },
    {
      "cell_type": "code",
      "source": [
        "!pwd"
      ],
      "metadata": {
        "colab": {
          "base_uri": "https://localhost:8080/"
        },
        "id": "eWYapSwg6YoA",
        "outputId": "440687d3-63f2-4a0d-f8e3-43222e895c28"
      },
      "execution_count": 173,
      "outputs": [
        {
          "output_type": "stream",
          "name": "stdout",
          "text": [
            "/content\n"
          ]
        }
      ]
    },
    {
      "cell_type": "code",
      "source": [
        "import ast\n",
        "queries_original = []\n",
        "with open(\"./datasets/msmarco/queries.jsonl\") as f:\n",
        "  for line in f:\n",
        "    line = ast.literal_eval(line)\n",
        "    queries_original.append(line)\n",
        "\n",
        "\n",
        "import ast\n",
        "corpus_original = []\n",
        "with open(\"./datasets/msmarco/corpus.jsonl\") as f:\n",
        "  for line in tqdm(f):\n",
        "    line = ast.literal_eval(line)\n",
        "    corpus_original.append(line)"
      ],
      "metadata": {
        "colab": {
          "base_uri": "https://localhost:8080/"
        },
        "id": "mQgr20Xv48Cb",
        "outputId": "5e43e85c-56a8-4e19-a690-1fe301e29369"
      },
      "execution_count": 7,
      "outputs": [
        {
          "output_type": "stream",
          "name": "stderr",
          "text": [
            "8841823it [04:08, 35612.54it/s]\n"
          ]
        }
      ]
    },
    {
      "cell_type": "code",
      "source": [
        "TRAIN_DOCS = [] \n",
        "for k, item in qrels_train.items():\n",
        "    for doc_k, val in item.items():\n",
        "        TRAIN_DOCS.append(doc_k)\n",
        "DEV_DOCS = []\n",
        "for k, item in qrels_dev.items():\n",
        "    for doc_k, val in item.items():\n",
        "        DEV_DOCS.append(doc_k)\n",
        "\n",
        "exits = {}\n",
        "for k in TRAIN_DOCS:\n",
        "  exits[k] = 1\n",
        "for k in DEV_DOCS:\n",
        "  exits[k] = 1\n",
        "OTHER_DOCS = []\n",
        "for k, v in tqdm(corpus.items()):\n",
        "  if k not in exits:\n",
        "    OTHER_DOCS.append(k)\n",
        "\n",
        "# all_docs = [k for k, v in corpus.items()]\n",
        "random.seed(1)\n",
        "ALL_DOCS = DEV_DOCS.copy()\n",
        "ALL_DOCS.extend(random.sample(TRAIN_DOCS, 50000))\n",
        "ALL_DOCS.extend(random.sample(OTHER_DOCS, 150000))\n",
        "random_subsample = {}\n",
        "for key in ALL_DOCS:\n",
        "    random_subsample[key] = corpus[key] \n",
        "random_text = [v['text'] for k, v in tqdm(random_subsample.items())]\n",
        "\n",
        "num_doc = len(random_text)"
      ],
      "metadata": {
        "colab": {
          "base_uri": "https://localhost:8080/"
        },
        "id": "TCgkCqfJJ3rj",
        "outputId": "a80a4162-61b5-4619-8d55-eb687df59d4e"
      },
      "execution_count": 8,
      "outputs": [
        {
          "output_type": "stream",
          "name": "stderr",
          "text": [
            "100%|██████████| 8841823/8841823 [00:06<00:00, 1468223.91it/s]\n",
            "100%|██████████| 207215/207215 [00:00<00:00, 828576.32it/s]\n"
          ]
        }
      ]
    },
    {
      "cell_type": "code",
      "source": [
        "len(num_doc)"
      ],
      "metadata": {
        "colab": {
          "base_uri": "https://localhost:8080/"
        },
        "id": "nrSe445cT9Yl",
        "outputId": "9a78908a-1005-47e6-b6aa-926e2b0b96c8"
      },
      "execution_count": null,
      "outputs": [
        {
          "output_type": "execute_result",
          "data": {
            "text/plain": [
              "207215"
            ]
          },
          "metadata": {},
          "execution_count": 9
        }
      ]
    },
    {
      "cell_type": "code",
      "source": [
        "from sentence_transformers import SentenceTransformer\n",
        "import matplotlib.pyplot as plt\n",
        "from sentence_transformers import util\n",
        "import seaborn as sns\n",
        "!pip uninstall umap -y \n",
        "!pip install umap-learn\n",
        "import umap.umap_ as umap\n",
        "import torch\n",
        "import matplotlib\n",
        "import random \n",
        "\n",
        "sentence_model = SentenceTransformer('bert-base-uncased')\n",
        "embeddings = sentence_model.encode(random_text, show_progress_bar=True)"
      ],
      "metadata": {
        "colab": {
          "base_uri": "https://localhost:8080/",
          "height": 426,
          "referenced_widgets": [
            "41a85f4834c54065989571eb0d3fd0c7",
            "dcabd71eb31d4114a68b4c129be682be",
            "acb08e7c4b80484c8aea102630050bc7",
            "0c59e46de817434d81dfefbd5b51652f",
            "f409c362acc641fd924532cfad2447e0",
            "f2bf4038817d484dbd1b95272fd7b6aa",
            "262f1fedad2d4adab3364ac7769ed7b6",
            "cad70629d9a041cf9597383fbb54fa56",
            "be7f8db384d244aabd35a2be3257fcd2",
            "119ad5284197488689925d70b75dc084",
            "07f5d2560ba64c79b592fe8079a9f2f0"
          ]
        },
        "id": "IPnM57y5Mg8G",
        "outputId": "d90ccc94-00d3-408e-fe9e-b0437bba3fa6"
      },
      "execution_count": 9,
      "outputs": [
        {
          "output_type": "stream",
          "name": "stdout",
          "text": [
            "Found existing installation: umap 0.1.1\n",
            "Uninstalling umap-0.1.1:\n",
            "  Successfully uninstalled umap-0.1.1\n",
            "Requirement already satisfied: umap-learn in /usr/local/lib/python3.7/dist-packages (0.5.2)\n",
            "Requirement already satisfied: scikit-learn>=0.22 in /usr/local/lib/python3.7/dist-packages (from umap-learn) (1.0.2)\n",
            "Requirement already satisfied: numpy>=1.17 in /usr/local/lib/python3.7/dist-packages (from umap-learn) (1.21.5)\n",
            "Requirement already satisfied: numba>=0.49 in /usr/local/lib/python3.7/dist-packages (from umap-learn) (0.51.2)\n",
            "Requirement already satisfied: scipy>=1.0 in /usr/local/lib/python3.7/dist-packages (from umap-learn) (1.4.1)\n",
            "Requirement already satisfied: pynndescent>=0.5 in /usr/local/lib/python3.7/dist-packages (from umap-learn) (0.5.6)\n",
            "Requirement already satisfied: tqdm in /usr/local/lib/python3.7/dist-packages (from umap-learn) (4.63.0)\n",
            "Requirement already satisfied: llvmlite<0.35,>=0.34.0.dev0 in /usr/local/lib/python3.7/dist-packages (from numba>=0.49->umap-learn) (0.34.0)\n",
            "Requirement already satisfied: setuptools in /usr/local/lib/python3.7/dist-packages (from numba>=0.49->umap-learn) (57.4.0)\n",
            "Requirement already satisfied: joblib>=0.11 in /usr/local/lib/python3.7/dist-packages (from pynndescent>=0.5->umap-learn) (1.1.0)\n",
            "Requirement already satisfied: threadpoolctl>=2.0.0 in /usr/local/lib/python3.7/dist-packages (from scikit-learn>=0.22->umap-learn) (3.1.0)\n",
            "2022-03-13 02:11:24 - Load pretrained SentenceTransformer: bert-base-uncased\n",
            "2022-03-13 02:11:26 - No sentence-transformers model found with name /root/.cache/torch/sentence_transformers/bert-base-uncased. Creating a new one with MEAN pooling.\n"
          ]
        },
        {
          "output_type": "stream",
          "name": "stderr",
          "text": [
            "Some weights of the model checkpoint at /root/.cache/torch/sentence_transformers/bert-base-uncased were not used when initializing BertModel: ['cls.predictions.decoder.weight', 'cls.predictions.transform.LayerNorm.bias', 'cls.seq_relationship.bias', 'cls.predictions.transform.LayerNorm.weight', 'cls.predictions.transform.dense.bias', 'cls.seq_relationship.weight', 'cls.predictions.transform.dense.weight', 'cls.predictions.bias']\n",
            "- This IS expected if you are initializing BertModel from the checkpoint of a model trained on another task or with another architecture (e.g. initializing a BertForSequenceClassification model from a BertForPreTraining model).\n",
            "- This IS NOT expected if you are initializing BertModel from the checkpoint of a model that you expect to be exactly identical (initializing a BertForSequenceClassification model from a BertForSequenceClassification model).\n"
          ]
        },
        {
          "output_type": "stream",
          "name": "stdout",
          "text": [
            "2022-03-13 02:11:30 - Use pytorch device: cuda\n"
          ]
        },
        {
          "output_type": "display_data",
          "data": {
            "text/plain": [
              "Batches:   0%|          | 0/6476 [00:00<?, ?it/s]"
            ],
            "application/vnd.jupyter.widget-view+json": {
              "version_major": 2,
              "version_minor": 0,
              "model_id": "41a85f4834c54065989571eb0d3fd0c7"
            }
          },
          "metadata": {}
        }
      ]
    },
    {
      "cell_type": "code",
      "source": [
        "\"\"\" Dimensionality Reduction with PCA to figure out the num_axis for UMAP \"\"\" \n",
        "from sklearn.preprocessing import StandardScaler\n",
        "from sklearn.decomposition import PCA\n",
        "\n",
        "# get the number of axis from PCA  \n",
        "def get_num_axis(initial=2): \n",
        "  num_axis = initial\n",
        "  sumvariance = 0 \n",
        "  while sumvariance <0.60: \n",
        "    sumvariance = 0 \n",
        "    pca = PCA(n_components = num_axis)\n",
        "    embed2_std = StandardScaler().fit_transform(embeddings)\n",
        "    pca_emb2 = pca.fit_transform(embed2_std)\n",
        "    sumvariance = np.sum(pca.explained_variance_ratio_)\n",
        "    num_axis+=1\n",
        "  return num_axis "
      ],
      "metadata": {
        "id": "IqkaDHHMXFpd",
        "colab": {
          "base_uri": "https://localhost:8080/"
        },
        "outputId": "5d9fab17-e59d-48fc-ee27-a7012130533b"
      },
      "execution_count": 75,
      "outputs": [
        {
          "output_type": "stream",
          "name": "stdout",
          "text": [
            "52\n"
          ]
        }
      ]
    },
    {
      "cell_type": "code",
      "source": [
        "\"\"\" UMAP Dimensionality Reduction (cosine and euclidean) \"\"\" \n",
        "# Run time: 15-20 minutes on P100\n",
        "\n",
        "# num_axis = get_num_axis(initial=50) # 50 empirically determined as initialization\n",
        "num_axis = 30 \n",
        "\n",
        "# Cosine Metric\n",
        "# embed_umap_cos = umap.UMAP(n_neighbors=15, \n",
        "#                             n_components=num_axis, \n",
        "#                             metric='cosine',\n",
        "#                             min_dist=0.0,\n",
        "#                             low_memory=False).fit_transform(embeddings)\n",
        "\n",
        "# Euclidean Metric \n",
        "embed_umap_euc = umap.UMAP(n_neighbors=15, \n",
        "                            n_components=num_axis, \n",
        "                            metric='euclidean',\n",
        "                            min_dist=0.0,\n",
        "                            low_memory=False).fit_transform(embeddings)"
      ],
      "metadata": {
        "id": "yl64o6W7hX1B",
        "colab": {
          "base_uri": "https://localhost:8080/"
        },
        "outputId": "6c29b378-6a83-4e29-a9d5-fcadd5e29963"
      },
      "execution_count": null,
      "outputs": [
        {
          "output_type": "stream",
          "name": "stderr",
          "text": [
            "/usr/local/lib/python3.7/dist-packages/numba/np/ufunc/parallel.py:363: NumbaWarning: The TBB threading layer requires TBB version 2019.5 or later i.e., TBB_INTERFACE_VERSION >= 11005. Found TBB_INTERFACE_VERSION = 9107. The TBB threading layer is disabled.\n",
            "  warnings.warn(problem)\n"
          ]
        }
      ]
    },
    {
      "cell_type": "code",
      "source": [
        "\"\"\" Gap Statistic Code to find Optimal Number of Clusters \"\"\" \n",
        "# Run time: 5-10 minutes on P100\n",
        "import numpy as np\n",
        "!pip install --upgrade gap-stat\n",
        "from gap_statistic import OptimalK\n",
        "\n",
        "# optimalK_cos = OptimalK(parallel_backend='None')\n",
        "optimalK_euc = OptimalK(parallel_backend='None')\n",
        "\n",
        "max_K = 30 # arbitrarily chosen, as long as an interior solution is found. \n",
        "\n",
        "# n_clusters_cos = optimalK_cos(embed_umap_cos, cluster_array=np.arange(1, max_K))\n",
        "n_clusters_euc = optimalK_euc(embed_umap_euc, cluster_array=np.arange(1, max_K))\n",
        "\n",
        "# print('Optimal clusters for Umap Embeddings (Cosine): ', n_clusters_cos)\n",
        "print('Optimal clusters for Umap Embeddings (Euclidean): ', n_clusters_euc)"
      ],
      "metadata": {
        "colab": {
          "base_uri": "https://localhost:8080/"
        },
        "id": "gX2c-vbCnmyq",
        "outputId": "6e870e9b-b733-4d6a-bb69-c21b54d53fc4"
      },
      "execution_count": 143,
      "outputs": [
        {
          "output_type": "stream",
          "name": "stdout",
          "text": [
            "Requirement already satisfied: gap-stat in /usr/local/lib/python3.7/dist-packages (2.0.1)\n",
            "Requirement already satisfied: scipy in /usr/local/lib/python3.7/dist-packages (from gap-stat) (1.4.1)\n",
            "Requirement already satisfied: pandas in /usr/local/lib/python3.7/dist-packages (from gap-stat) (1.3.5)\n",
            "Requirement already satisfied: numpy in /usr/local/lib/python3.7/dist-packages (from gap-stat) (1.21.5)\n",
            "Requirement already satisfied: pytz>=2017.3 in /usr/local/lib/python3.7/dist-packages (from pandas->gap-stat) (2018.9)\n",
            "Requirement already satisfied: python-dateutil>=2.7.3 in /usr/local/lib/python3.7/dist-packages (from pandas->gap-stat) (2.8.2)\n",
            "Requirement already satisfied: six>=1.5 in /usr/local/lib/python3.7/dist-packages (from python-dateutil>=2.7.3->pandas->gap-stat) (1.15.0)\n",
            "Optimal clusters for Umap Embeddings (Euclidean):  26\n"
          ]
        }
      ]
    },
    {
      "cell_type": "code",
      "source": [
        "\"\"\" Gap Statistic Plot (Euclidean UMAP) \"\"\" \n",
        "import matplotlib.pyplot as plt \n",
        "\n",
        "# Euclidean \n",
        "plt.plot(optimalK_euc.gap_df.n_clusters, optimalK_euc.gap_df.gap_value, linewidth=3)\n",
        "plt.scatter(optimalK_euc.gap_df[optimalK_euc.gap_df.n_clusters == n_clusters_euc].n_clusters,\n",
        "            optimalK_euc.gap_df[optimalK_euc.gap_df.n_clusters == n_clusters_euc].gap_value, s=250, c='r')\n",
        "plt.grid(True)\n",
        "plt.xticks(range(1,max_K))\n",
        "plt.xlabel('Cluster Count')\n",
        "plt.ylabel('Gap Value')\n",
        "plt.title('Gap Values by Cluster Count on Umap Embeddings (Euclidean)')\n",
        "plt.show()"
      ],
      "metadata": {
        "colab": {
          "base_uri": "https://localhost:8080/",
          "height": 295
        },
        "id": "7irEDxyjdGLB",
        "outputId": "5d2e9bd2-47a5-4b0c-ec0a-ef35ed88cbf1"
      },
      "execution_count": 144,
      "outputs": [
        {
          "output_type": "display_data",
          "data": {
            "text/plain": [
              "<Figure size 432x288 with 1 Axes>"
            ],
            "image/png": "[encoded data removed]"
          },
          "metadata": {
            "needs_background": "light"
          }
        }
      ]
    },
    {
      "cell_type": "code",
      "source": [
        "\"\"\" Gap Statistic Plot (Cosine UMAP)  \"\"\" \n",
        "# # Cosine \n",
        "# plt.plot(optimalK_cos.gap_df.n_clusters, optimalK_cos.gap_df.gap_value, linewidth=3)\n",
        "# plt.scatter(optimalK_cos.gap_df[optimalK_cos.gap_df.n_clusters == n_clusters_cos].n_clusters,\n",
        "#             optimalK_cos.gap_df[optimalK_cos.gap_df.n_clusters == n_clusters_cos].gap_value, s=250, c='r')\n",
        "# plt.grid(True)\n",
        "# plt.xticks(range(1,max_K))\n",
        "# plt.xlabel('Cluster Count')\n",
        "# plt.ylabel('Gap Value')\n",
        "# plt.title('Gap Values by Cluster Count on Umap Embeddings (Cosine)')\n",
        "# plt.show()"
      ],
      "metadata": {
        "id": "V4GAxoWsoiOq"
      },
      "execution_count": null,
      "outputs": []
    },
    {
      "cell_type": "code",
      "source": [
        "\"\"\" K-Means Clustering \"\"\" \n",
        "from sklearn.cluster import KMeans\n",
        "\n",
        "num_clusters = n_clusters_euc\n",
        "# Define kmeans model\n",
        "clustering_model = KMeans(n_clusters=num_clusters)\n",
        "# Fit the embedding with kmeans clustering.\n",
        "clustering_model.fit(embed_umap_euc) # clustering_model.fit(embed_umap_cos)\n",
        "# Get the cluster id assigned to each news headline.\n",
        "cluster_assignment = clustering_model.labels_\n",
        "\n",
        "clustering_model.cluster_centers_.shape # (num_clusters, dimension) "
      ],
      "metadata": {
        "id": "RHeNwefaZHKk",
        "colab": {
          "base_uri": "https://localhost:8080/"
        },
        "outputId": "98231ca5-b404-465c-c3ed-52937c3c1ea7"
      },
      "execution_count": 145,
      "outputs": [
        {
          "output_type": "execute_result",
          "data": {
            "text/plain": [
              "(26, 30)"
            ]
          },
          "metadata": {},
          "execution_count": 145
        }
      ]
    },
    {
      "cell_type": "code",
      "source": [
        "\"\"\" Sanity Check: Size of Clusters\"\"\" \n",
        "total = 0\n",
        "sizes = [] \n",
        "for i in range(num_clusters): \n",
        "  clustered = (cluster_assignment == i)\n",
        "  sizes.append(embed_umap_euc[clustered].shape[0])\n",
        "  total += embed_umap_euc[clustered].shape[0]\n",
        "\n",
        "assert total == num_doc, print(\"Unequal lengths!\")\n",
        "\n",
        "hist = plt.hist(sizes)\n",
        "plt.ylabel(\"Count\")\n",
        "plt.xlabel(\"Number of Documents\")\n",
        "plt.title(\"Histogram of Clusters by Size\")\n",
        "plt.show() "
      ],
      "metadata": {
        "colab": {
          "base_uri": "https://localhost:8080/",
          "height": 295
        },
        "id": "-YZAgHmizD7J",
        "outputId": "f98278e7-cbc7-4317-aa34-d97b0758ce20"
      },
      "execution_count": 147,
      "outputs": [
        {
          "output_type": "display_data",
          "data": {
            "text/plain": [
              "<Figure size 432x288 with 1 Axes>"
            ],
            "image/png": "[encoded data removed]"
          },
          "metadata": {
            "needs_background": "light"
          }
        }
      ]
    },
    {
      "cell_type": "code",
      "source": [
        "import numpy as np\n",
        "\n",
        "dist = np.zeros((num_clusters, num_clusters))\n",
        "for i in range(num_clusters): \n",
        "  for j in range(num_clusters): \n",
        "    dist[i,j] = np.linalg.norm(clustering_model.cluster_centers_[i] - clustering_model.cluster_centers_[j])\n",
        "\n",
        "\n",
        "dist = np.triu(dist) \n",
        "\n",
        "temp = dist \n",
        "sorted_idx = [] \n",
        "sorted_value = [] \n",
        "\n",
        "\n",
        "n_ut = int(np.ceil(num_clusters*(num_clusters-1)/2))\n",
        "for i in range(n_ut):\n",
        "  maxValue = np.amax(temp)\n",
        "  sorted_value.append(maxValue)\n",
        "  result = np.where(temp == np.amax(temp))\n",
        "  listOfCordinates = list(zip(result[0], result[1]))\n",
        "  for cord in listOfCordinates:\n",
        "      sorted_idx.append(cord)\n",
        "      temp[cord[0],cord[1]] = 0\n",
        "\n",
        "print(sorted_idx)\n",
        "print(sorted_value)"
      ],
      "metadata": {
        "colab": {
          "base_uri": "https://localhost:8080/"
        },
        "id": "I9eKKdSVu-1z",
        "outputId": "87ea7138-947c-471c-90fa-a41829a75ea7"
      },
      "execution_count": 148,
      "outputs": [
        {
          "output_type": "stream",
          "name": "stdout",
          "text": [
            "[(10, 18), (18, 19), (3, 18), (6, 18), (18, 23), (16, 18), (14, 18), (9, 18), (0, 18), (18, 22), (18, 20), (18, 24), (18, 21), (13, 18), (15, 18), (4, 18), (1, 18), (8, 18), (12, 18), (2, 18), (17, 18), (7, 18), (11, 18), (5, 18), (18, 25), (10, 14), (6, 10), (5, 10), (6, 19), (14, 19), (9, 10), (4, 10), (8, 10), (10, 21), (3, 14), (10, 13), (2, 10), (8, 19), (5, 19), (3, 6), (9, 19), (19, 21), (4, 19), (2, 19), (3, 5), (3, 9), (10, 24), (3, 21), (10, 15), (10, 20), (15, 19), (3, 13), (3, 4), (3, 8), (19, 24), (2, 3), (14, 16), (14, 22), (9, 22), (6, 22), (6, 16), (1, 10), (0, 8), (8, 22), (8, 13), (3, 20), (19, 20), (0, 6), (5, 23), (8, 23), (10, 12), (0, 14), (9, 16), (10, 25), (3, 15), (0, 9), (13, 19), (8, 16), (3, 24), (13, 15), (0, 5), (5, 16), (12, 19), (1, 19), (6, 17), (7, 10), (16, 21), (21, 22), (15, 22), (1, 3), (13, 16), (0, 15), (0, 21), (6, 13), (5, 13), (5, 22), (20, 22), (4, 16), (6, 23), (14, 23), (4, 22), (6, 25), (0, 2), (2, 16), (2, 23), (2, 22), (13, 24), (1, 22), (0, 4), (22, 24), (3, 12), (14, 25), (14, 17), (15, 23), (0, 24), (7, 19), (13, 22), (16, 20), (13, 21), (15, 16), (9, 17), (9, 23), (3, 25), (21, 23), (8, 17), (4, 23), (2, 13), (0, 20), (16, 24), (23, 24), (19, 25), (17, 21), (9, 25), (0, 1), (9, 13), (12, 13), (5, 14), (10, 11), (12, 22), (1, 13), (1, 16), (15, 17), (10, 17), (3, 7), (6, 11), (17, 24), (0, 12), (11, 14), (5, 9), (5, 6), (4, 17), (21, 25), (0, 13), (9, 11), (2, 17), (12, 16), (24, 25), (7, 13), (13, 20), (6, 8), (4, 13), (5, 17), (5, 20), (13, 23), (20, 23), (17, 20), (1, 23), (23, 25), (4, 25), (12, 23), (8, 25), (16, 25), (13, 25), (5, 24), (15, 25), (11, 19), (20, 25), (8, 21), (11, 13), (21, 24), (6, 24), (13, 14), (22, 25), (11, 21), (3, 17), (1, 14), (8, 20), (0, 25), (8, 11), (11, 20), (6, 7), (1, 24), (1, 17), (3, 11), (8, 14), (20, 24), (7, 23), (12, 17), (10, 22), (1, 5), (0, 7), (7, 16), (5, 21), (7, 14), (7, 22), (11, 15), (2, 25), (1, 8), (6, 15), (7, 9), (1, 11), (4, 11), (11, 24), (17, 19), (5, 15), (4, 5), (0, 10), (8, 9), (7, 20), (14, 15), (1, 25), (5, 8), (7, 21), (1, 4), (15, 21), (12, 25), (1, 6), (13, 17), (12, 14), (5, 11), (2, 20), (14, 21), (15, 20), (5, 12), (2, 6), (9, 24), (1, 2), (2, 11), (10, 23), (1, 7), (14, 20), (16, 17), (19, 22), (11, 23), (14, 24), (2, 14), (7, 17), (17, 22), (1, 15), (6, 14), (6, 12), (4, 8), (2, 9), (11, 12), (4, 20), (3, 22), (11, 16), (2, 21), (5, 25), (5, 7), (17, 23), (9, 15), (7, 8), (1, 21), (0, 11), (0, 3), (3, 23), (11, 22), (7, 25), (22, 23), (12, 24), (1, 9), (4, 6), (6, 20), (4, 21), (4, 7), (8, 12), (0, 17), (12, 21), (4, 15), (7, 15), (0, 19), (10, 16), (4, 24), (7, 24), (2, 24), (2, 5), (4, 12), (9, 21), (9, 12), (4, 9), (9, 14), (19, 23), (20, 21), (16, 19), (11, 25), (17, 25), (2, 8), (7, 12), (6, 9), (12, 20), (16, 23), (2, 12), (10, 19), (8, 24), (2, 7), (11, 17), (3, 19), (2, 15), (16, 22), (15, 24), (9, 20), (4, 14), (0, 16), (1, 12), (12, 15), (2, 4), (0, 23), (7, 11), (1, 20), (8, 15), (3, 16), (0, 22), (3, 10), (6, 21)]\n",
            "[10.888396263122559, 10.424184799194336, 10.404630661010742, 9.920614242553711, 9.8761568069458, 9.820074081420898, 9.81411075592041, 9.762777328491211, 9.648709297180176, 9.64152717590332, 9.452698707580566, 9.445985794067383, 9.390815734863281, 9.290599822998047, 9.243974685668945, 9.190306663513184, 9.100600242614746, 9.075164794921875, 8.997560501098633, 8.75318431854248, 8.745598793029785, 8.626311302185059, 8.592156410217285, 8.213939666748047, 8.201364517211914, 7.92830753326416, 7.622709274291992, 7.484557628631592, 7.33075475692749, 7.3244500160217285, 7.278942108154297, 7.278226852416992, 7.234462738037109, 7.205106258392334, 7.1910319328308105, 7.140076160430908, 7.113633632659912, 7.106324672698975, 7.069611549377441, 7.013035774230957, 6.896446704864502, 6.852842807769775, 6.816664218902588, 6.809232234954834, 6.700254917144775, 6.68113899230957, 6.597012519836426, 6.591177463531494, 6.535562515258789, 6.497071743011475, 6.496582984924316, 6.49040412902832, 6.470026016235352, 6.450126647949219, 6.378270149230957, 6.287951946258545, 6.2830023765563965, 6.216228008270264, 6.121745586395264, 6.083240032196045, 6.059442043304443, 6.054284572601318, 6.049149036407471, 6.035401821136475, 6.021858215332031, 6.000611305236816, 5.983582019805908, 5.982169151306152, 5.946633338928223, 5.909127712249756, 5.907601833343506, 5.877834320068359, 5.859654426574707, 5.847270965576172, 5.822570323944092, 5.791277885437012, 5.767583847045898, 5.755415439605713, 5.740922927856445, 5.7256975173950195, 5.720501899719238, 5.708745956420898, 5.648205280303955, 5.6399102210998535, 5.636582374572754, 5.621150970458984, 5.583934783935547, 5.583065032958984, 5.580668926239014, 5.5786967277526855, 5.566800117492676, 5.521552562713623, 5.512648105621338, 5.510848522186279, 5.50947904586792, 5.5068278312683105, 5.492964744567871, 5.49125862121582, 5.484637260437012, 5.456277847290039, 5.3973870277404785, 5.388601779937744, 5.3793511390686035, 5.336245536804199, 5.334730625152588, 5.307863712310791, 5.2914276123046875, 5.283396244049072, 5.282413482666016, 5.26363468170166, 5.244358539581299, 5.217926025390625, 5.20693302154541, 5.190958023071289, 5.187434196472168, 5.181616306304932, 5.179192543029785, 5.163705825805664, 5.163123607635498, 5.140657901763916, 5.13740873336792, 5.119433403015137, 5.104252815246582, 5.1028008460998535, 5.102593421936035, 5.0722527503967285, 5.063033103942871, 5.054852485656738, 5.036669731140137, 5.031871318817139, 4.985378742218018, 4.940592288970947, 4.929999351501465, 4.9236321449279785, 4.906937122344971, 4.857269287109375, 4.839624881744385, 4.824450969696045, 4.81651496887207, 4.816495895385742, 4.808718204498291, 4.792121887207031, 4.744297504425049, 4.698580741882324, 4.697220325469971, 4.658380508422852, 4.639745712280273, 4.574883937835693, 4.5685625076293945, 4.550631523132324, 4.544614315032959, 4.492138862609863, 4.4422478675842285, 4.439055919647217, 4.438812732696533, 4.419353485107422, 4.418877124786377, 4.414822101593018, 4.388792514801025, 4.37890100479126, 4.352025985717773, 4.3198089599609375, 4.307920455932617, 4.2875189781188965, 4.281742095947266, 4.263566970825195, 4.25906229019165, 4.212623596191406, 4.207341194152832, 4.196256160736084, 4.1830735206604, 4.174668788909912, 4.156545162200928, 4.151155948638916, 4.1355299949646, 4.135080337524414, 4.117014408111572, 4.107057094573975, 4.103158950805664, 4.080549240112305, 4.078954219818115, 4.078580856323242, 4.067277431488037, 4.028188228607178, 3.9952638149261475, 3.958883762359619, 3.9442362785339355, 3.940242052078247, 3.9095938205718994, 3.9039926528930664, 3.901341438293457, 3.8973443508148193, 3.8928918838500977, 3.881885290145874, 3.8786191940307617, 3.8745639324188232, 3.871894359588623, 3.82832932472229, 3.7798285484313965, 3.725989818572998, 3.7004458904266357, 3.6916286945343018, 3.671964645385742, 3.6609914302825928, 3.629117250442505, 3.5786523818969727, 3.5506646633148193, 3.5418906211853027, 3.516040086746216, 3.5133767127990723, 3.5059590339660645, 3.498507022857666, 3.4870681762695312, 3.4782731533050537, 3.4475605487823486, 3.4456915855407715, 3.427765369415283, 3.4085025787353516, 3.398366689682007, 3.3937933444976807, 3.3813226222991943, 3.362035036087036, 3.3567280769348145, 3.31571626663208, 3.304452657699585, 3.3033084869384766, 3.296971082687378, 3.269519567489624, 3.256584882736206, 3.2502076625823975, 3.238222599029541, 3.2353811264038086, 3.1622610092163086, 3.1496353149414062, 3.1486308574676514, 3.1247992515563965, 3.119751214981079, 3.116849184036255, 3.0967254638671875, 3.0906107425689697, 3.0698764324188232, 3.062190532684326, 3.0603315830230713, 3.0510880947113037, 3.0350568294525146, 3.014202117919922, 2.9440438747406006, 2.9238293170928955, 2.8919460773468018, 2.8829073905944824, 2.870681047439575, 2.85620379447937, 2.8493340015411377, 2.843879461288452, 2.8306026458740234, 2.794844627380371, 2.767367362976074, 2.713456630706787, 2.7102699279785156, 2.6913399696350098, 2.675016403198242, 2.634275436401367, 2.6209099292755127, 2.598837375640869, 2.573817491531372, 2.5734918117523193, 2.5666143894195557, 2.531446933746338, 2.530942916870117, 2.5273425579071045, 2.5102734565734863, 2.487882614135742, 2.4582788944244385, 2.45042085647583, 2.438058614730835, 2.390648603439331, 2.3865699768066406, 2.359210729598999, 2.351224184036255, 2.325590133666992, 2.32521653175354, 2.299758195877075, 2.283721685409546, 2.270857810974121, 2.2695255279541016, 2.248272657394409, 2.2335875034332275, 2.2284111976623535, 2.1718556880950928, 2.1157567501068115, 2.0761585235595703, 2.073723077774048, 2.0698232650756836, 2.066740036010742, 2.0148813724517822, 1.9807460308074951, 1.965558648109436, 1.9478472471237183, 1.9454463720321655, 1.9121171236038208, 1.9116628170013428, 1.8861345052719116, 1.8794822692871094, 1.8495721817016602, 1.8412666320800781, 1.825642704963684, 1.8139337301254272, 1.723780632019043, 1.7088234424591064, 1.6733218431472778, 1.662301778793335, 1.5903065204620361, 1.5880242586135864, 1.5555015802383423, 1.5534536838531494, 1.52656090259552, 1.5211368799209595, 1.5038902759552002, 1.4160603284835815, 1.3160349130630493, 1.3015004396438599, 1.2931705713272095, 1.2265167236328125, 1.1522150039672852, 1.1284409761428833]\n"
          ]
        }
      ]
    },
    {
      "cell_type": "code",
      "source": [
        "# Furthest Clusters \n",
        "furthest_pair = sorted_idx[0] \n",
        "print(\"Furthest Clusters:\", \"Clusters \", furthest_pair[0], furthest_pair[1])\n",
        "\n",
        "# Randomly pick one of these clusters as \"home\", the other as \"away\"\n",
        "home = np.random.choice(furthest_pair,1)\n",
        "away = furthest_pair[0] \n",
        "if away == home: \n",
        "  away = furthest_pair[1] \n",
        "\n",
        "# Sort the (home, other) pairs from furthest to closest \n",
        "home_cluster = home\n",
        "sorted_idx_home = [] \n",
        "\n",
        "for i in range(len(sorted_idx)): \n",
        "  tmp = list(sorted_idx[i]) \n",
        "  # print(tmp)\n",
        "  if tmp[0] == home_cluster or tmp[1] == home_cluster: \n",
        "    if tmp[1] == home_cluster: \n",
        "      # print(type(sorted_idx[i]))\n",
        "      lst_sorted_idx = list(sorted_idx[i])\n",
        "      # print(lst_sorted_idx)\n",
        "      lst_sorted_idx[1] = tmp[0] \n",
        "      lst_sorted_idx[0] = tmp[1] \n",
        "      sorted_idx_home.append(lst_sorted_idx)\n",
        "    else:\n",
        "      sorted_idx_home.append(sorted_idx[i])\n",
        "\n",
        "print(f\"Sorted (Furthest to Closest) Idx from {home_cluster}:\", sorted_idx_home)\n",
        "\n",
        "# Closest to home\n",
        "closest_neighbor = sorted_idx_home[-1][1] "
      ],
      "metadata": {
        "colab": {
          "base_uri": "https://localhost:8080/"
        },
        "id": "jR2g2PcN7EeQ",
        "outputId": "3412a85b-1c18-41c3-f4fa-34ba16fbcba0"
      },
      "execution_count": 149,
      "outputs": [
        {
          "output_type": "stream",
          "name": "stdout",
          "text": [
            "Furthest Clusters: Clusters  10 18\n",
            "Sorted (Furthest to Closest) Idx from [10]: [(10, 18), (10, 14), [10, 6], [10, 5], [10, 9], [10, 4], [10, 8], (10, 21), (10, 13), [10, 2], (10, 24), (10, 15), (10, 20), [10, 1], (10, 12), (10, 25), [10, 7], (10, 11), (10, 17), (10, 22), [10, 0], (10, 23), (10, 16), (10, 19), [10, 3]]\n"
          ]
        }
      ]
    },
    {
      "cell_type": "code",
      "source": [
        "\"\"\" PLOTS \"\"\" \n",
        "\n",
        "# Randomly choose one of the n_components axis \n",
        "firstax = np.random.choice(np.arange(num_axis),1)\n",
        "secondax = np.random.choice(np.arange(num_axis),1)\n",
        "if secondax == firstax: \n",
        "  while secondax == firstax: \n",
        "    secondax = np.random.choice(np.arange(num_axis),1)\n",
        "\n",
        "# Plot these pics for the furthest clusters\n",
        "print(f\"Plot of (home,furthest) clusters along axis {firstax} and {secondax} (randomly chosen)\")\n",
        "clustered1 = (cluster_assignment == home)\n",
        "clustered2 = (cluster_assignment == away)\n",
        "plt.scatter(embed_umap_euc[clustered1, firstax],\n",
        "            embed_umap_euc[clustered1, secondax],\n",
        "            # color=(0.5, 0.5, 0.5),\n",
        "            s=0.1,\n",
        "            alpha=0.5)\n",
        "plt.scatter(embed_umap_euc[clustered2, firstax],\n",
        "            embed_umap_euc[clustered2, secondax],\n",
        "            c=cluster_assignment[clustered2],\n",
        "            # color=(0.5, 0.5, 0.5),\n",
        "            s=0.1,\n",
        "            cmap='Spectral');\n",
        "plt.show()\n",
        "plt.savefig(\"home_furthest.png\")\n",
        "\n",
        "# Home and Closest Neighbor \n",
        "\n",
        "#### Code for the two closest pairs (not relating to home)\n",
        "#### closest_pair = sorted_idx[-1] \n",
        "#### print(\"Furthest Clusters:\", \"Clusters \", closest_pair[0], closest_pair[1])\n",
        "\n",
        "# Plot these pics for the closest clusters\n",
        "print(f\"Plot of (home,nearest) clusters along axis {firstax} and {secondax} (randomly chosen)\")\n",
        "clustered1 = (cluster_assignment == home)\n",
        "clustered2 = (cluster_assignment == closest_neighbor)\n",
        "plt.scatter(embed_umap_euc[clustered1, firstax],\n",
        "            embed_umap_euc[clustered1, secondax],\n",
        "            # color=(0.5, 0.5, 0.5),\n",
        "            s=0.1,\n",
        "            alpha=0.5)\n",
        "plt.scatter(embed_umap_euc[clustered2, firstax],\n",
        "            embed_umap_euc[clustered2, secondax],\n",
        "            c=cluster_assignment[clustered2],\n",
        "            # color=(0.5, 0.5, 0.5),\n",
        "            s=0.1,\n",
        "            cmap='Spectral');\n",
        "plt.show()\n",
        "plt.savefig(\"home_nearest.png\")\n",
        "\n"
      ],
      "metadata": {
        "colab": {
          "base_uri": "https://localhost:8080/",
          "height": 548
        },
        "id": "hmpursLvsw6i",
        "outputId": "1fc38e30-dcac-4fce-b846-8750694fc26a"
      },
      "execution_count": 151,
      "outputs": [
        {
          "output_type": "stream",
          "name": "stdout",
          "text": [
            "Plot of (home,furthest) clusters along axis [1] and [2] (randomly chosen)\n"
          ]
        },
        {
          "output_type": "display_data",
          "data": {
            "text/plain": [
              "<Figure size 432x288 with 1 Axes>"
            ],
            "image/png": "[encoded data removed]"
          },
          "metadata": {
            "needs_background": "light"
          }
        },
        {
          "output_type": "stream",
          "name": "stdout",
          "text": [
            "Plot of (home,nearest)) clusters along axis [1] and [2] (randomly chosen)\n"
          ]
        },
        {
          "output_type": "display_data",
          "data": {
            "text/plain": [
              "<Figure size 432x288 with 1 Axes>"
            ],
            "image/png": "[encoded data removed]"
          },
          "metadata": {
            "needs_background": "light"
          }
        }
      ]
    },
    {
      "cell_type": "code",
      "source": [
        "remaining_sorted_idx_home = sorted_idx_home.copy()  # keep track of this\n",
        "A = [] \n",
        "Asize = embed_umap_euc[cluster_assignment == home_cluster].shape[0]\n",
        "# print(Asize)\n",
        "A.append(home_cluster)\n",
        "print(\"Starting from Cluster: \", home_cluster, \"...\")\n",
        "idx = -1\n",
        "\n",
        "while Asize < num_doc/2: # change this later \n",
        "  print(f\"Added Cluster {sorted_idx_home[idx][1]}\")\n",
        "  A.append(sorted_idx_home[idx][1]) \n",
        "  Asize += embed_umap_euc[cluster_assignment == sorted_idx_home[idx][1]].shape[0]\n",
        "  idx = idx-1 \n",
        "  remaining_sorted_idx_home.pop()\n",
        "\n",
        "print(\"Overall A Sample Size: \", Asize)\n",
        "print(\"A Consists of Clusters: \", A)\n"
      ],
      "metadata": {
        "colab": {
          "base_uri": "https://localhost:8080/"
        },
        "id": "7GRZxMiNBRR2",
        "outputId": "773990fd-4f32-40bf-a50c-f14227c6ce8c"
      },
      "execution_count": 159,
      "outputs": [
        {
          "output_type": "stream",
          "name": "stdout",
          "text": [
            "Starting from Cluster:  [10] ...\n",
            "Added Cluster 3\n",
            "Added Cluster 19\n",
            "Added Cluster 16\n",
            "Added Cluster 23\n",
            "Added Cluster 0\n",
            "Added Cluster 22\n",
            "Added Cluster 17\n",
            "Added Cluster 11\n",
            "Added Cluster 7\n",
            "Added Cluster 25\n",
            "Added Cluster 12\n",
            "Added Cluster 1\n",
            "Added Cluster 20\n",
            "Overall A Sample Size:  110298\n",
            "A Consists of Clusters:  [array([10]), 3, 19, 16, 23, 0, 22, 17, 11, 7, 25, 12, 1, 20]\n"
          ]
        }
      ]
    },
    {
      "cell_type": "code",
      "source": [
        "# Remaining clusters list in distance from furthest to closest: \n",
        "remaining_sorted_idx_home\n",
        "\n",
        "# Make B (second big group) \n",
        "B = [] \n",
        "Bsize = 0 \n",
        "for i in range(len(remaining_sorted_idx_home)): \n",
        "  B.append(remaining_sorted_idx_home[i][1])\n",
        "  Bsize += embed_umap_euc[cluster_assignment == remaining_sorted_idx_home[i][1]].shape[0]\n",
        "print(\"Overall B Sample Size: \", Bsize)\n",
        "print(\"B Consists of Clusters: \", B)\n",
        "\n"
      ],
      "metadata": {
        "colab": {
          "base_uri": "https://localhost:8080/"
        },
        "id": "UmzQiuBwFbCI",
        "outputId": "4f7596e5-e5c7-41c6-c7f7-cd3c4f1b5868"
      },
      "execution_count": 160,
      "outputs": [
        {
          "output_type": "stream",
          "name": "stdout",
          "text": [
            "Overall B Sample Size:  96917\n",
            "B Consists of Clusters:  [18, 14, 6, 5, 9, 4, 8, 21, 13, 2, 24, 15]\n"
          ]
        }
      ]
    },
    {
      "cell_type": "code",
      "source": [
        "# Make B,C,D.... \n",
        "num_groups = 5"
      ],
      "metadata": {
        "id": "nJ0_N2dfxcim"
      },
      "execution_count": null,
      "outputs": []
    },
    {
      "cell_type": "code",
      "source": [
        "with open(\"datasets/custom_msmarco/qrels_dev.json\") as f:\n",
        "  old_dev = json.load(f)\n",
        "with open(\"datasets/custom_msmarco/qrels_train.json\") as f:\n",
        "  old_train = json.load(f)\n"
      ],
      "metadata": {
        "id": "sIe7xQmABm98"
      },
      "execution_count": null,
      "outputs": []
    },
    {
      "cell_type": "code",
      "source": [
        "import csv\n",
        "sub_corpus = {}\n",
        "key2cluster = {}\n",
        "assert len(random_subsample) == len(cluster_assignment), print(\"Unequal lengths!\")\n",
        "for (k, v), label in zip(random_subsample.items(), cluster_assignment):\n",
        "    key2cluster[k] = label\n",
        "    if label in A:\n",
        "        sub_corpus[k] = v\n",
        "print(f\"Cluster A contains: {len(sub_corpus)} documents.\")\n",
        "\n",
        "with open(\"datasets/custom_msmarco/cluster_assignments.json\", \"w\") as f:\n",
        "    json.dump(key2cluster, f)\n",
        "\n",
        "combined_corpus = {}\n",
        "assert len(random_subsample) == len(cluster_assignment), print(\"Unequal lengths!\")\n",
        "for (k, v), label in zip(random_subsample.items(), cluster_assignment):\n",
        "    if label in A or B:\n",
        "        combined_corpus[k] = v\n",
        "print(f\"Cluster A and B contains: {len(combined_corpus)} documents.\")\n",
        "\n",
        "prefix = \"datasets/custom_msmarco/\"\n",
        "if not os.path.exists(f\"{prefix}\"):\n",
        "    os.makedirs(f\"{prefix}\")\n",
        "if not os.path.exists(f\"{prefix}/qrels/\"):\n",
        "    os.makedirs(f\"{prefix}/qrels/\")\n",
        "    \n",
        "with open(f\"{prefix}/corpus.jsonl\", \"w\") as f:\n",
        "    for item in tqdm(corpus_original):\n",
        "      k = item[\"_id\"]\n",
        "      if k in combined_corpus:\n",
        "        json.dump(item, f)\n",
        "        f.write(\"\\n\")\n",
        "        \n",
        "with open(f\"{prefix}/queries.jsonl\", \"w\") as f:\n",
        "    for item in queries_original:\n",
        "        k = item['_id']\n",
        "        if k in combined_corpus:\n",
        "          json.dump(item, f)\n",
        "          f.write(\"\\n\")\n",
        "\n",
        "for split_name in ['train', 'dev', 'test']:\n",
        "    if split_name == \"train\":\n",
        "        sub_qrels = {}\n",
        "        for key, value in qrels_train.items():\n",
        "            for k, v in value.items():\n",
        "              break\n",
        "            if k in sub_corpus:\n",
        "                sub_qrels[key] = value\n",
        "        \n",
        "    elif split_name == \"dev\":\n",
        "        sub_qrels = {}\n",
        "        for key, value in qrels_dev.items():\n",
        "           # qid, {corpus id: 1}\n",
        "            for k, v in value.items():\n",
        "              break\n",
        "            if k in sub_corpus:\n",
        "                sub_qrels[key] = value\n",
        "    else:\n",
        "        sub_qrels = {}\n",
        "        for key, value in qrels_test.items():\n",
        "            sub_qrels[key] = value\n",
        "\n",
        "    output_file = f\"datasets/custom_msmarco/qrels/{split_name}.tsv\"\n",
        "    print(f\"Overall size {split_name}: {len(sub_qrels)}\")\n",
        "    with open(output_file, 'w') as fOut:\n",
        "        writer = csv.writer(fOut, delimiter=\"\\t\", quoting=csv.QUOTE_MINIMAL)\n",
        "        writer.writerow([\"query-id\", \"corpus-id\", \"score\"])\n",
        "        for query_id, corpus_dict in sub_qrels.items():\n",
        "            for corpus_id, score in corpus_dict.items():\n",
        "                writer.writerow([query_id, corpus_id, score])\n",
        "    "
      ],
      "metadata": {
        "colab": {
          "base_uri": "https://localhost:8080/"
        },
        "id": "taA_tMMn8uRx",
        "outputId": "373a40f9-2b58-4900-cb34-78bf1cbda4a9"
      },
      "execution_count": 185,
      "outputs": [
        {
          "output_type": "stream",
          "name": "stdout",
          "text": [
            "Cluster A contains: 110298 documents.\n",
            "Cluster A and B contains: 207215 documents.\n"
          ]
        },
        {
          "output_type": "stream",
          "name": "stderr",
          "text": [
            "100%|██████████| 207215/207215 [00:02<00:00, 77013.21it/s]\n"
          ]
        },
        {
          "output_type": "stream",
          "name": "stdout",
          "text": [
            "Overall size train: 28117\n",
            "Overall size dev: 3708\n",
            "Overall size test: 43\n"
          ]
        }
      ]
    },
    {
      "cell_type": "code",
      "source": [
        "for item in corpus_original:\n",
        "  print(item)\n",
        "  break\n"
      ],
      "metadata": {
        "colab": {
          "base_uri": "https://localhost:8080/"
        },
        "id": "OE37b5aM4azS",
        "outputId": "62e49191-c9dc-4da7-cb9a-f3f73c036794"
      },
      "execution_count": 192,
      "outputs": [
        {
          "output_type": "stream",
          "name": "stdout",
          "text": [
            "{'_id': '0', 'title': '', 'text': 'The presence of communication amid scientific minds was equally important to the success of the Manhattan Project as scientific intellect was. The only cloud hanging over the impressive achievement of the atomic researchers and engineers is what their success truly meant; hundreds of thousands of innocent lives obliterated.', 'metadata': {}}\n"
          ]
        }
      ]
    },
    {
      "cell_type": "code",
      "source": [
        "A_random = [k for k in DEV_DOCS if k in sub_corpus]\n",
        "B_random = [k for k in DEV_DOCS if k not in sub_corpus]\n",
        "\n",
        "exists_in_dev = {}\n",
        "for k in A_random:\n",
        "  exists_in_dev[k] = 1\n",
        "for k in B_random:\n",
        "  exists_in_dev[k] = 1\n",
        "\n",
        "OTHER = [k for k in ALL_DOCS if k not in exists_in_dev]\n",
        "A_MORE = random.sample(OTHER, 110298 - len(A_random))\n",
        "for k in A_MORE:\n",
        "  exists_in_dev[k] = 1\n",
        "\n",
        "B_MORE = [k for k in OTHER if k not in exists_in_dev]\n",
        "\n",
        "A_random.extend(A_MORE)\n",
        "B_random.extend(B_MORE)\n",
        "\n",
        "import csv\n",
        "sub_corpus_random = {}\n",
        "assert len(random_subsample) == len(cluster_assignment), print(\"Unequal lengths!\")\n",
        "for (k, v), label in zip(random_subsample.items(), cluster_assignment):\n",
        "    if label in A_random:\n",
        "        sub_corpus_random[k] = v\n",
        "print(f\"Cluster A contains: {len(sub_corpus_random)} documents.\")\n",
        "\n",
        "combined_corpus_random = {}\n",
        "assert len(random_subsample) == len(cluster_assignment), print(\"Unequal lengths!\")\n",
        "for (k, v), label in zip(random_subsample.items(), cluster_assignment):\n",
        "    if label in A_random or B_random:\n",
        "        combined_corpus_random[k] = v\n",
        "print(f\"Cluster A and B contains: {len(combined_corpus_random)} documents.\")\n",
        "\n",
        "prefix = \"datasets/custom_msmarco_random/\"\n",
        "if not os.path.exists(f\"{prefix}\"):\n",
        "    os.makedirs(f\"{prefix}\")\n",
        "if not os.path.exists(f\"{prefix}/qrels/\"):\n",
        "    os.makedirs(f\"{prefix}/qrels/\")\n",
        "    \n",
        "with open(f\"{prefix}/corpus.jsonl\", \"w\") as f:\n",
        "    for item in tqdm(corpus_original):\n",
        "      k = item[\"_id\"]\n",
        "      if k in combined_corpus_random:\n",
        "        json.dump(item, f)\n",
        "        f.write(\"\\n\")\n",
        "        \n",
        "with open(f\"{prefix}/queries.jsonl\", \"w\") as f:\n",
        "    for item in queries_original:\n",
        "        k = item['_id']\n",
        "        if k in combined_corpus:\n",
        "          json.dump(item, f)\n",
        "          f.write(\"\\n\")\n",
        "\n",
        "for split_name in ['train', 'dev', 'test']:\n",
        "    if split_name == \"train\":\n",
        "        sub_qrels = {}\n",
        "        for key, value in qrels_train.items():\n",
        "            for k, v in value.items():\n",
        "              if (len(value) > 1):\n",
        "                print(\"ahhh\")\n",
        "              break\n",
        "            if k in sub_corpus_random:\n",
        "                sub_qrels[key] = value\n",
        "        \n",
        "    elif split_name == \"dev\":\n",
        "        sub_qrels = {}\n",
        "        for key, value in qrels_dev.items():\n",
        "            for k, v in value.items():\n",
        "              if (len(value) > 1):\n",
        "                print(\"ahhh\")\n",
        "              break\n",
        "            if k in sub_corpus_random:\n",
        "                sub_qrels[key] = value\n",
        "    else:\n",
        "        sub_qrels = {}\n",
        "        for key, value in qrels_test.items():\n",
        "            sub_qrels[key] = value\n",
        "\n",
        "    output_file = f\"datasets/custom_msmarco/qrels/{split_name}.tsv\"\n",
        "    print(f\"Overall size {split_name}: {len(sub_qrels)}\")\n",
        "    with open(output_file, 'w') as fOut:\n",
        "        writer = csv.writer(fOut, delimiter=\"\\t\", quoting=csv.QUOTE_MINIMAL)\n",
        "        writer.writerow([\"query-id\", \"corpus-id\", \"score\"])\n",
        "        for query_id, corpus_dict in sub_qrels.items():\n",
        "            for corpus_id, score in corpus_dict.items():\n",
        "                writer.writerow([query_id, corpus_id, score])\n",
        "    "
      ],
      "metadata": {
        "colab": {
          "base_uri": "https://localhost:8080/"
        },
        "id": "z9jSLMoj4ave",
        "outputId": "93f5a978-02c4-4095-e3fa-0492621b8561"
      },
      "execution_count": null,
      "outputs": [
        {
          "output_type": "stream",
          "name": "stderr",
          "text": [
            "/usr/local/lib/python3.7/dist-packages/ipykernel_launcher.py:24: DeprecationWarning: elementwise comparison failed; this will raise an error in the future.\n"
          ]
        }
      ]
    },
    {
      "cell_type": "code",
      "source": [
        ""
      ],
      "metadata": {
        "id": "lqfCfR5E4asF"
      },
      "execution_count": null,
      "outputs": []
    },
    {
      "cell_type": "code",
      "source": [
        ""
      ],
      "metadata": {
        "id": "-geuzOqb4aph"
      },
      "execution_count": null,
      "outputs": []
    },
    {
      "cell_type": "code",
      "source": [
        ""
      ],
      "metadata": {
        "id": "pba7G-a64amm"
      },
      "execution_count": null,
      "outputs": []
    },
    {
      "cell_type": "code",
      "source": [
        ""
      ],
      "metadata": {
        "id": "AMxH7ZlN4afb"
      },
      "execution_count": null,
      "outputs": []
    },
    {
      "cell_type": "code",
      "source": [
        ""
      ],
      "metadata": {
        "id": "EtOAPlKA4acD"
      },
      "execution_count": null,
      "outputs": []
    },
    {
      "cell_type": "code",
      "source": [
        ""
      ],
      "metadata": {
        "id": "AChpiuxk4E6T"
      },
      "execution_count": null,
      "outputs": []
    },
    {
      "cell_type": "code",
      "source": [
        "from google.colab import drive\n",
        "drive.mount('/content/drive')"
      ],
      "metadata": {
        "colab": {
          "base_uri": "https://localhost:8080/"
        },
        "id": "RSOQV8k4evhg",
        "outputId": "60dd0272-322c-4a6c-bb0e-1c9db1889354"
      },
      "execution_count": null,
      "outputs": [
        {
          "output_type": "stream",
          "name": "stdout",
          "text": [
            "Mounted at /content/drive\n"
          ]
        }
      ]
    },
    {
      "cell_type": "code",
      "source": [
        "!zip -r ./datasets/custom_msmarco.zip ./datasets/custom_msmarco\n",
        "from google.colab import files\n",
        "files.download(\"./datasets/custom_msmarco.zip\")"
      ],
      "metadata": {
        "colab": {
          "base_uri": "https://localhost:8080/",
          "height": 142
        },
        "id": "1d3LjmabfpF-",
        "outputId": "1bf40154-df66-4dfb-a9e8-f1ea4edd2e06"
      },
      "execution_count": null,
      "outputs": [
        {
          "output_type": "stream",
          "name": "stdout",
          "text": [
            "  adding: datasets/custom_msmarco/ (stored 0%)\n",
            "  adding: datasets/custom_msmarco/qrels/ (stored 0%)\n",
            "  adding: datasets/custom_msmarco/qrels/train.tsv (deflated 60%)\n",
            "  adding: datasets/custom_msmarco/qrels/dev.tsv (deflated 62%)\n",
            "  adding: datasets/custom_msmarco/qrels/test.tsv (deflated 77%)\n",
            "  adding: datasets/custom_msmarco/corpus.jsonl (deflated 63%)\n",
            "  adding: datasets/custom_msmarco/queries.jsonl (deflated 61%)\n"
          ]
        },
        {
          "output_type": "display_data",
          "data": {
            "text/plain": [
              "<IPython.core.display.Javascript object>"
            ],
            "application/javascript": [
              "\n",
              "    async function download(id, filename, size) {\n",
              "      if (!google.colab.kernel.accessAllowed) {\n",
              "        return;\n",
              "      }\n",
              "      const div = document.createElement('div');\n",
              "      const label = document.createElement('label');\n",
              "      label.textContent = `Downloading \"${filename}\": `;\n",
              "      div.appendChild(label);\n",
              "      const progress = document.createElement('progress');\n",
              "      progress.max = size;\n",
              "      div.appendChild(progress);\n",
              "      document.body.appendChild(div);\n",
              "\n",
              "      const buffers = [];\n",
              "      let downloaded = 0;\n",
              "\n",
              "      const channel = await google.colab.kernel.comms.open(id);\n",
              "      // Send a message to notify the kernel that we're ready.\n",
              "      channel.send({})\n",
              "\n",
              "      for await (const message of channel.messages) {\n",
              "        // Send a message to notify the kernel that we're ready.\n",
              "        channel.send({})\n",
              "        if (message.buffers) {\n",
              "          for (const buffer of message.buffers) {\n",
              "            buffers.push(buffer);\n",
              "            downloaded += buffer.byteLength;\n",
              "            progress.value = downloaded;\n",
              "          }\n",
              "        }\n",
              "      }\n",
              "      const blob = new Blob(buffers, {type: 'application/binary'});\n",
              "      const a = document.createElement('a');\n",
              "      a.href = window.URL.createObjectURL(blob);\n",
              "      a.download = filename;\n",
              "      div.appendChild(a);\n",
              "      a.click();\n",
              "      div.remove();\n",
              "    }\n",
              "  "
            ]
          },
          "metadata": {}
        },
        {
          "output_type": "display_data",
          "data": {
            "text/plain": [
              "<IPython.core.display.Javascript object>"
            ],
            "application/javascript": [
              "download(\"download_60a5fbce-817d-4a87-864c-cc021cda7ac8\", \"custom_msmarco.zip\", 30889554)"
            ]
          },
          "metadata": {}
        }
      ]
    }
  ]
}